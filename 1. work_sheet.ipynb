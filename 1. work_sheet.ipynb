{
 "cells": [
  {
   "cell_type": "markdown",
   "metadata": {},
   "source": [
    "# Черновой вариант решения задачи об оценке стоимости автомобиля\n",
    "## Общая обзорная часть"
   ]
  },
  {
   "cell_type": "code",
   "execution_count": 1,
   "metadata": {},
   "outputs": [
    {
     "data": {
      "text/html": [
       "<div>\n",
       "<style scoped>\n",
       "    .dataframe tbody tr th:only-of-type {\n",
       "        vertical-align: middle;\n",
       "    }\n",
       "\n",
       "    .dataframe tbody tr th {\n",
       "        vertical-align: top;\n",
       "    }\n",
       "\n",
       "    .dataframe thead th {\n",
       "        text-align: right;\n",
       "    }\n",
       "</style>\n",
       "<table border=\"1\" class=\"dataframe\">\n",
       "  <thead>\n",
       "    <tr style=\"text-align: right;\">\n",
       "      <th></th>\n",
       "      <th>index</th>\n",
       "      <th>brand</th>\n",
       "      <th>name</th>\n",
       "      <th>modelDate</th>\n",
       "      <th>color</th>\n",
       "      <th>productionDate</th>\n",
       "      <th>bodyType</th>\n",
       "      <th>fuelType</th>\n",
       "      <th>numberOfDoors</th>\n",
       "      <th>vehicleConfiguration</th>\n",
       "      <th>vehicleTransmission</th>\n",
       "      <th>engineDisplacement</th>\n",
       "      <th>whilleType</th>\n",
       "      <th>drive</th>\n",
       "      <th>enginePower</th>\n",
       "      <th>href</th>\n",
       "      <th>kmAge</th>\n",
       "      <th>place</th>\n",
       "      <th>VIN</th>\n",
       "      <th>seller</th>\n",
       "      <th>#owners</th>\n",
       "      <th>inUse</th>\n",
       "      <th>pts</th>\n",
       "      <th>condition</th>\n",
       "      <th>tax</th>\n",
       "      <th>castoms</th>\n",
       "      <th>exchange</th>\n",
       "      <th>price</th>\n",
       "      <th>priceCurrency</th>\n",
       "    </tr>\n",
       "  </thead>\n",
       "  <tbody>\n",
       "    <tr>\n",
       "      <th>0</th>\n",
       "      <td>0</td>\n",
       "      <td>SKODA</td>\n",
       "      <td>Skoda Octavia III (A7)</td>\n",
       "      <td>2013</td>\n",
       "      <td>чёрный</td>\n",
       "      <td>2015</td>\n",
       "      <td>универсал 5 дв.</td>\n",
       "      <td>бензин</td>\n",
       "      <td>5</td>\n",
       "      <td>WAGON_5_DOORS ROBOT 1.8</td>\n",
       "      <td>роботизированная</td>\n",
       "      <td>1.8 LTR</td>\n",
       "      <td>Левый</td>\n",
       "      <td>полный</td>\n",
       "      <td>180 N12</td>\n",
       "      <td>https://auto.ru/cars/used/sale/skoda/octavia/1...</td>\n",
       "      <td>116 000 км</td>\n",
       "      <td>Пушкино</td>\n",
       "      <td>TMB**************</td>\n",
       "      <td>Private</td>\n",
       "      <td>1 владелец</td>\n",
       "      <td>0</td>\n",
       "      <td>Оригинал</td>\n",
       "      <td>Не требует ремонта</td>\n",
       "      <td>8 820 ₽ / год</td>\n",
       "      <td>Растаможен</td>\n",
       "      <td>NaN</td>\n",
       "      <td>1350000</td>\n",
       "      <td>RUB</td>\n",
       "    </tr>\n",
       "    <tr>\n",
       "      <th>1</th>\n",
       "      <td>1</td>\n",
       "      <td>FORD</td>\n",
       "      <td>Ford Focus II Рестайлинг</td>\n",
       "      <td>2007</td>\n",
       "      <td>чёрный</td>\n",
       "      <td>2008</td>\n",
       "      <td>седан</td>\n",
       "      <td>бензин</td>\n",
       "      <td>4</td>\n",
       "      <td>SEDAN MECHANICAL 1.8</td>\n",
       "      <td>механическая</td>\n",
       "      <td>1.8 LTR</td>\n",
       "      <td>Левый</td>\n",
       "      <td>передний</td>\n",
       "      <td>125 N12</td>\n",
       "      <td>https://auto.ru/cars/used/sale/ford/focus/1098...</td>\n",
       "      <td>152 000 км</td>\n",
       "      <td>Москва</td>\n",
       "      <td>WF0**************</td>\n",
       "      <td>АЦ на Варшавке</td>\n",
       "      <td>3 или более</td>\n",
       "      <td>0</td>\n",
       "      <td>Оригинал</td>\n",
       "      <td>Не требует ремонта</td>\n",
       "      <td>3 125 ₽ / год</td>\n",
       "      <td>Растаможен</td>\n",
       "      <td>Рассмотрю варианты</td>\n",
       "      <td>319000</td>\n",
       "      <td>RUB</td>\n",
       "    </tr>\n",
       "    <tr>\n",
       "      <th>2</th>\n",
       "      <td>2</td>\n",
       "      <td>BMW</td>\n",
       "      <td>BMW X3  II (F25) 20d xDrive</td>\n",
       "      <td>2010</td>\n",
       "      <td>синий</td>\n",
       "      <td>2014</td>\n",
       "      <td>внедорожник 5 дв.</td>\n",
       "      <td>дизель</td>\n",
       "      <td>5</td>\n",
       "      <td>ALLROAD_5_DOORS AUTOMATIC 2.0</td>\n",
       "      <td>автоматическая</td>\n",
       "      <td>2.0 LTR</td>\n",
       "      <td>Левый</td>\n",
       "      <td>полный</td>\n",
       "      <td>184 N12</td>\n",
       "      <td>https://auto.ru/cars/used/sale/bmw/x3/10985290...</td>\n",
       "      <td>134 215 км</td>\n",
       "      <td>Москва</td>\n",
       "      <td>X4X**************</td>\n",
       "      <td>Private</td>\n",
       "      <td>1 владелец</td>\n",
       "      <td>0</td>\n",
       "      <td>Оригинал</td>\n",
       "      <td>Не требует ремонта</td>\n",
       "      <td>9 200 ₽ / год</td>\n",
       "      <td>Растаможен</td>\n",
       "      <td>NaN</td>\n",
       "      <td>1271000</td>\n",
       "      <td>RUB</td>\n",
       "    </tr>\n",
       "    <tr>\n",
       "      <th>3</th>\n",
       "      <td>3</td>\n",
       "      <td>VAZ</td>\n",
       "      <td>LADA (ВАЗ) Kalina I</td>\n",
       "      <td>2004</td>\n",
       "      <td>чёрный</td>\n",
       "      <td>2009</td>\n",
       "      <td>универсал 5 дв.</td>\n",
       "      <td>бензин</td>\n",
       "      <td>5</td>\n",
       "      <td>WAGON_5_DOORS MECHANICAL 1.6</td>\n",
       "      <td>механическая</td>\n",
       "      <td>1.6 LTR</td>\n",
       "      <td>Левый</td>\n",
       "      <td>передний</td>\n",
       "      <td>81 N12</td>\n",
       "      <td>https://auto.ru/cars/used/sale/vaz/kalina/1098...</td>\n",
       "      <td>17 372 км</td>\n",
       "      <td>Москва</td>\n",
       "      <td>XTA**************</td>\n",
       "      <td>Private</td>\n",
       "      <td>2 владельца</td>\n",
       "      <td>0</td>\n",
       "      <td>Оригинал</td>\n",
       "      <td>Не требует ремонта</td>\n",
       "      <td>972 ₽ / год</td>\n",
       "      <td>Растаможен</td>\n",
       "      <td>Рассмотрю варианты</td>\n",
       "      <td>300000</td>\n",
       "      <td>RUB</td>\n",
       "    </tr>\n",
       "    <tr>\n",
       "      <th>4</th>\n",
       "      <td>4</td>\n",
       "      <td>AUDI</td>\n",
       "      <td>Audi Q7  II (4M) Рестайлинг 45 TDI</td>\n",
       "      <td>2019</td>\n",
       "      <td>коричневый</td>\n",
       "      <td>2020</td>\n",
       "      <td>внедорожник 5 дв.</td>\n",
       "      <td>дизель</td>\n",
       "      <td>5</td>\n",
       "      <td>ALLROAD_5_DOORS AUTOMATIC 3.0</td>\n",
       "      <td>автоматическая</td>\n",
       "      <td>3.0 LTR</td>\n",
       "      <td>NaN</td>\n",
       "      <td>Полный</td>\n",
       "      <td>249 N12</td>\n",
       "      <td>https://auto.ru/cars/new/group/audi/q7/2190500...</td>\n",
       "      <td>Новый</td>\n",
       "      <td>Москва</td>\n",
       "      <td>NaN</td>\n",
       "      <td>Ауди Центр Таганка</td>\n",
       "      <td>0</td>\n",
       "      <td>0</td>\n",
       "      <td>NaN</td>\n",
       "      <td>NaN</td>\n",
       "      <td>18 675 ₽ / год</td>\n",
       "      <td>NaN</td>\n",
       "      <td>NaN</td>\n",
       "      <td>4805000</td>\n",
       "      <td>RUB</td>\n",
       "    </tr>\n",
       "  </tbody>\n",
       "</table>\n",
       "</div>"
      ],
      "text/plain": [
       "   index  brand                                name  modelDate       color  \\\n",
       "0      0  SKODA              Skoda Octavia III (A7)       2013      чёрный   \n",
       "1      1   FORD            Ford Focus II Рестайлинг       2007      чёрный   \n",
       "2      2    BMW         BMW X3  II (F25) 20d xDrive       2010       синий   \n",
       "3      3    VAZ                 LADA (ВАЗ) Kalina I       2004      чёрный   \n",
       "4      4   AUDI  Audi Q7  II (4M) Рестайлинг 45 TDI       2019  коричневый   \n",
       "\n",
       "   productionDate           bodyType fuelType  numberOfDoors  \\\n",
       "0            2015    универсал 5 дв.   бензин              5   \n",
       "1            2008              седан   бензин              4   \n",
       "2            2014  внедорожник 5 дв.   дизель              5   \n",
       "3            2009    универсал 5 дв.   бензин              5   \n",
       "4            2020  внедорожник 5 дв.   дизель              5   \n",
       "\n",
       "            vehicleConfiguration vehicleTransmission engineDisplacement  \\\n",
       "0        WAGON_5_DOORS ROBOT 1.8    роботизированная            1.8 LTR   \n",
       "1           SEDAN MECHANICAL 1.8        механическая            1.8 LTR   \n",
       "2  ALLROAD_5_DOORS AUTOMATIC 2.0      автоматическая            2.0 LTR   \n",
       "3   WAGON_5_DOORS MECHANICAL 1.6        механическая            1.6 LTR   \n",
       "4  ALLROAD_5_DOORS AUTOMATIC 3.0      автоматическая            3.0 LTR   \n",
       "\n",
       "  whilleType     drive enginePower  \\\n",
       "0      Левый    полный     180 N12   \n",
       "1      Левый  передний     125 N12   \n",
       "2      Левый    полный     184 N12   \n",
       "3      Левый  передний      81 N12   \n",
       "4        NaN    Полный     249 N12   \n",
       "\n",
       "                                                href       kmAge    place  \\\n",
       "0  https://auto.ru/cars/used/sale/skoda/octavia/1...  116 000 км  Пушкино   \n",
       "1  https://auto.ru/cars/used/sale/ford/focus/1098...  152 000 км   Москва   \n",
       "2  https://auto.ru/cars/used/sale/bmw/x3/10985290...  134 215 км   Москва   \n",
       "3  https://auto.ru/cars/used/sale/vaz/kalina/1098...   17 372 км   Москва   \n",
       "4  https://auto.ru/cars/new/group/audi/q7/2190500...       Новый   Москва   \n",
       "\n",
       "                 VIN              seller      #owners inUse       pts  \\\n",
       "0  TMB**************             Private   1 владелец     0  Оригинал   \n",
       "1  WF0**************      АЦ на Варшавке  3 или более     0  Оригинал   \n",
       "2  X4X**************             Private   1 владелец     0  Оригинал   \n",
       "3  XTA**************             Private  2 владельца     0  Оригинал   \n",
       "4                NaN  Ауди Центр Таганка            0     0       NaN   \n",
       "\n",
       "            condition             tax     castoms            exchange  \\\n",
       "0  Не требует ремонта   8 820 ₽ / год  Растаможен                 NaN   \n",
       "1  Не требует ремонта   3 125 ₽ / год  Растаможен  Рассмотрю варианты   \n",
       "2  Не требует ремонта   9 200 ₽ / год  Растаможен                 NaN   \n",
       "3  Не требует ремонта     972 ₽ / год  Растаможен  Рассмотрю варианты   \n",
       "4                 NaN  18 675 ₽ / год         NaN                 NaN   \n",
       "\n",
       "     price priceCurrency  \n",
       "0  1350000           RUB  \n",
       "1   319000           RUB  \n",
       "2  1271000           RUB  \n",
       "3   300000           RUB  \n",
       "4  4805000           RUB  "
      ]
     },
     "execution_count": 1,
     "metadata": {},
     "output_type": "execute_result"
    }
   ],
   "source": [
    "import pandas as pd\n",
    "import numpy as np\n",
    "import matplotlib.pyplot as plt\n",
    "import seaborn as sns\n",
    "import re\n",
    "from itertools import combinations\n",
    "from scipy.stats import ttest_ind\n",
    "\n",
    "pd.set_option('display.max_rows', 50) \n",
    "pd.set_option('display.max_columns', 50) \n",
    "cars = pd.read_csv(\"d:\\\\skillfactory\\\\Real Data Science\\\\4.Auto_pickup\\\\200618_auto_bd_100_do_Ekata.csv\", sep=';', encoding='utf-8')\n",
    "# cars = pd.read_csv(\"d:\\\\skillfactory\\\\Real Data Science\\\\4.Auto_pickup\\\\auto_bd_50_do_niznego.csv\", sep=';', encoding='utf-8')\n",
    "cars1 = pd.read_csv(\"d:\\\\skillfactory\\\\Real Data Science\\\\4.Auto_pickup\\\\auto_bd.100_do_Rostova.csv\", sep=';', encoding='utf-8')\n",
    "cars2 = pd.read_csv(\"d:\\\\skillfactory\\\\Real Data Science\\\\4.Auto_pickup\\\\auto_bd.csv\", sep=';', encoding='utf-8')\n",
    "cars = pd.concat([cars, cars1, cars2], ignore_index=True)\n",
    "cars.drop_duplicates(inplace=True)\n",
    "cars.reset_index(inplace=True)\n",
    "cars.to_csv('d:\\\\skillfactory\\\\Real Data Science\\\\4.Auto_pickup\\\\200620_auto_bd_100_merged.csv', sep=';', encoding='utf-8')\n",
    "cars.head(5)"
   ]
  },
  {
   "cell_type": "code",
   "execution_count": 2,
   "metadata": {},
   "outputs": [],
   "source": [
    "# Функция для вывода со статисчтической иноформацией о признаке\n",
    "def feature_info(_column, _bins = 0, _normalize=True, _values=False, _threshold=10):\n",
    "    \n",
    "    if(_bins==0):\n",
    "        _bins = len(_column.value_counts(dropna=True, normalize=_normalize))\n",
    "            \n",
    "    print(f\"Тип признака: {_column.dtype}\\nЗначения признака:\")\n",
    "    \n",
    "    \n",
    "    if _column.dtype != 'object':\n",
    "        _column.hist(bins = _bins, align='left')\n",
    "        display(_column.describe())\n",
    "        if _values == True:\n",
    "            display(pd.DataFrame(_column.value_counts(dropna=False, normalize=_normalize).round(3)))\n",
    "       # plt.plot(_column,pupils['score'])\n",
    "    \n",
    "    else:\n",
    "        display(pd.DataFrame(_column.value_counts(dropna=False, normalize=_normalize).round(3)))\n",
    "    \n",
    "    print(f\"Различных значений c учётом NaN: {len(_column.value_counts(dropna=False, normalize=_normalize))}\\n\\\n",
    "              \\t  без учёта NaN: {len(_column.value_counts(dropna=True, normalize=_normalize))} \\nПропусков: {_column.isnull().sum()}\")\n",
    "    print(f\"Значений, встретившихся в столбце более {_threshold} раз:\"#Число 10 взято для ориентира, можно брать другое\n",
    "      , (_column.value_counts()>_threshold).sum())\n",
    "    "
   ]
  },
  {
   "cell_type": "code",
   "execution_count": 3,
   "metadata": {},
   "outputs": [
    {
     "name": "stdout",
     "output_type": "stream",
     "text": [
      "<class 'pandas.core.frame.DataFrame'>\n",
      "RangeIndex: 85077 entries, 0 to 85076\n",
      "Data columns (total 29 columns):\n",
      " #   Column                Non-Null Count  Dtype \n",
      "---  ------                --------------  ----- \n",
      " 0   index                 85077 non-null  int64 \n",
      " 1   brand                 85077 non-null  object\n",
      " 2   name                  85077 non-null  object\n",
      " 3   modelDate             85077 non-null  int64 \n",
      " 4   color                 85077 non-null  object\n",
      " 5   productionDate        85077 non-null  int64 \n",
      " 6   bodyType              85077 non-null  object\n",
      " 7   fuelType              85077 non-null  object\n",
      " 8   numberOfDoors         85077 non-null  int64 \n",
      " 9   vehicleConfiguration  85077 non-null  object\n",
      " 10  vehicleTransmission   85077 non-null  object\n",
      " 11  engineDisplacement    85077 non-null  object\n",
      " 12  whilleType            72513 non-null  object\n",
      " 13  drive                 85021 non-null  object\n",
      " 14  enginePower           85077 non-null  object\n",
      " 15  href                  85077 non-null  object\n",
      " 16  kmAge                 85077 non-null  object\n",
      " 17  place                 85077 non-null  object\n",
      " 18  VIN                   70067 non-null  object\n",
      " 19  seller                85077 non-null  object\n",
      " 20  #owners               85077 non-null  object\n",
      " 21  inUse                 85077 non-null  object\n",
      " 22  pts                   72513 non-null  object\n",
      " 23  condition             72513 non-null  object\n",
      " 24  tax                   85077 non-null  object\n",
      " 25  castoms               72513 non-null  object\n",
      " 26  exchange              26839 non-null  object\n",
      " 27  price                 85077 non-null  int64 \n",
      " 28  priceCurrency         85077 non-null  object\n",
      "dtypes: int64(5), object(24)\n",
      "memory usage: 18.8+ MB\n"
     ]
    }
   ],
   "source": [
    "cars.info()"
   ]
  },
  {
   "cell_type": "markdown",
   "metadata": {},
   "source": [
    "### brand"
   ]
  },
  {
   "cell_type": "code",
   "execution_count": 4,
   "metadata": {},
   "outputs": [
    {
     "name": "stdout",
     "output_type": "stream",
     "text": [
      "Тип признака: object\n",
      "Значения признака:\n"
     ]
    },
    {
     "data": {
      "text/html": [
       "<div>\n",
       "<style scoped>\n",
       "    .dataframe tbody tr th:only-of-type {\n",
       "        vertical-align: middle;\n",
       "    }\n",
       "\n",
       "    .dataframe tbody tr th {\n",
       "        vertical-align: top;\n",
       "    }\n",
       "\n",
       "    .dataframe thead th {\n",
       "        text-align: right;\n",
       "    }\n",
       "</style>\n",
       "<table border=\"1\" class=\"dataframe\">\n",
       "  <thead>\n",
       "    <tr style=\"text-align: right;\">\n",
       "      <th></th>\n",
       "      <th>brand</th>\n",
       "    </tr>\n",
       "  </thead>\n",
       "  <tbody>\n",
       "    <tr>\n",
       "      <th>VAZ</th>\n",
       "      <td>12101</td>\n",
       "    </tr>\n",
       "    <tr>\n",
       "      <th>HYUNDAI</th>\n",
       "      <td>6272</td>\n",
       "    </tr>\n",
       "    <tr>\n",
       "      <th>KIA</th>\n",
       "      <td>6219</td>\n",
       "    </tr>\n",
       "    <tr>\n",
       "      <th>TOYOTA</th>\n",
       "      <td>5224</td>\n",
       "    </tr>\n",
       "    <tr>\n",
       "      <th>NISSAN</th>\n",
       "      <td>4924</td>\n",
       "    </tr>\n",
       "    <tr>\n",
       "      <th>...</th>\n",
       "      <td>...</td>\n",
       "    </tr>\n",
       "    <tr>\n",
       "      <th>TIANMA</th>\n",
       "      <td>1</td>\n",
       "    </tr>\n",
       "    <tr>\n",
       "      <th>SAMSUNG</th>\n",
       "      <td>1</td>\n",
       "    </tr>\n",
       "    <tr>\n",
       "      <th>ZIS</th>\n",
       "      <td>1</td>\n",
       "    </tr>\n",
       "    <tr>\n",
       "      <th>LUXGEN</th>\n",
       "      <td>1</td>\n",
       "    </tr>\n",
       "    <tr>\n",
       "      <th>BAJAJ</th>\n",
       "      <td>1</td>\n",
       "    </tr>\n",
       "  </tbody>\n",
       "</table>\n",
       "<p>109 rows × 1 columns</p>\n",
       "</div>"
      ],
      "text/plain": [
       "         brand\n",
       "VAZ      12101\n",
       "HYUNDAI   6272\n",
       "KIA       6219\n",
       "TOYOTA    5224\n",
       "NISSAN    4924\n",
       "...        ...\n",
       "TIANMA       1\n",
       "SAMSUNG      1\n",
       "ZIS          1\n",
       "LUXGEN       1\n",
       "BAJAJ        1\n",
       "\n",
       "[109 rows x 1 columns]"
      ]
     },
     "metadata": {},
     "output_type": "display_data"
    },
    {
     "name": "stdout",
     "output_type": "stream",
     "text": [
      "Различных значений c учётом NaN: 109\n",
      "              \t  без учёта NaN: 109 \n",
      "Пропусков: 0\n",
      "Значений, встретившихся в столбце более 100 раз: 42\n"
     ]
    }
   ],
   "source": [
    "feature_info(cars.brand, _normalize=False, _threshold=100)"
   ]
  },
  {
   "cell_type": "markdown",
   "metadata": {},
   "source": [
    "### name"
   ]
  },
  {
   "cell_type": "code",
   "execution_count": 5,
   "metadata": {},
   "outputs": [
    {
     "name": "stdout",
     "output_type": "stream",
     "text": [
      "Тип признака: object\n",
      "Значения признака:\n"
     ]
    },
    {
     "data": {
      "text/html": [
       "<div>\n",
       "<style scoped>\n",
       "    .dataframe tbody tr th:only-of-type {\n",
       "        vertical-align: middle;\n",
       "    }\n",
       "\n",
       "    .dataframe tbody tr th {\n",
       "        vertical-align: top;\n",
       "    }\n",
       "\n",
       "    .dataframe thead th {\n",
       "        text-align: right;\n",
       "    }\n",
       "</style>\n",
       "<table border=\"1\" class=\"dataframe\">\n",
       "  <thead>\n",
       "    <tr style=\"text-align: right;\">\n",
       "      <th></th>\n",
       "      <th>name</th>\n",
       "    </tr>\n",
       "  </thead>\n",
       "  <tbody>\n",
       "    <tr>\n",
       "      <th>LADA (ВАЗ) Granta I</th>\n",
       "      <td>1311</td>\n",
       "    </tr>\n",
       "    <tr>\n",
       "      <th>LADA (ВАЗ) Priora I</th>\n",
       "      <td>933</td>\n",
       "    </tr>\n",
       "    <tr>\n",
       "      <th>Chevrolet Niva I Рестайлинг</th>\n",
       "      <td>885</td>\n",
       "    </tr>\n",
       "    <tr>\n",
       "      <th>LADA (ВАЗ) Vesta I</th>\n",
       "      <td>845</td>\n",
       "    </tr>\n",
       "    <tr>\n",
       "      <th>Volkswagen Polo V Рестайлинг</th>\n",
       "      <td>818</td>\n",
       "    </tr>\n",
       "    <tr>\n",
       "      <th>...</th>\n",
       "      <td>...</td>\n",
       "    </tr>\n",
       "    <tr>\n",
       "      <th>Nissan Mistral</th>\n",
       "      <td>1</td>\n",
       "    </tr>\n",
       "    <tr>\n",
       "      <th>Mazda MPV III (LY)</th>\n",
       "      <td>1</td>\n",
       "    </tr>\n",
       "    <tr>\n",
       "      <th>Mercedes-Benz G-Класс 4x4 II (W463) Рестайлинг 4 500 4x4</th>\n",
       "      <td>1</td>\n",
       "    </tr>\n",
       "    <tr>\n",
       "      <th>Mercedes-Benz E-Класс  II (W210, S210) Рестайлинг 430</th>\n",
       "      <td>1</td>\n",
       "    </tr>\n",
       "    <tr>\n",
       "      <th>BMW 4 серия Gran Coupe F32/F33/F36 Рестайлинг 420i xDrive</th>\n",
       "      <td>1</td>\n",
       "    </tr>\n",
       "  </tbody>\n",
       "</table>\n",
       "<p>3752 rows × 1 columns</p>\n",
       "</div>"
      ],
      "text/plain": [
       "                                                    name\n",
       "LADA (ВАЗ) Granta I                                 1311\n",
       "LADA (ВАЗ) Priora I                                  933\n",
       "Chevrolet Niva I Рестайлинг                          885\n",
       "LADA (ВАЗ) Vesta I                                   845\n",
       "Volkswagen Polo V Рестайлинг                         818\n",
       "...                                                  ...\n",
       "Nissan Mistral                                         1\n",
       "Mazda MPV III (LY)                                     1\n",
       "Mercedes-Benz G-Класс 4x4 II (W463) Рестайлинг ...     1\n",
       "Mercedes-Benz E-Класс  II (W210, S210) Рестайли...     1\n",
       "BMW 4 серия Gran Coupe F32/F33/F36 Рестайлинг 4...     1\n",
       "\n",
       "[3752 rows x 1 columns]"
      ]
     },
     "metadata": {},
     "output_type": "display_data"
    },
    {
     "name": "stdout",
     "output_type": "stream",
     "text": [
      "Различных значений c учётом NaN: 3752\n",
      "              \t  без учёта NaN: 3752 \n",
      "Пропусков: 0\n",
      "Значений, встретившихся в столбце более 100 раз: 186\n"
     ]
    }
   ],
   "source": [
    "feature_info(cars.name, _normalize=False, _threshold=100)"
   ]
  },
  {
   "cell_type": "markdown",
   "metadata": {},
   "source": [
    "### modelDate"
   ]
  },
  {
   "cell_type": "code",
   "execution_count": 6,
   "metadata": {},
   "outputs": [
    {
     "name": "stdout",
     "output_type": "stream",
     "text": [
      "Тип признака: int64\n",
      "Значения признака:\n"
     ]
    },
    {
     "data": {
      "text/plain": [
       "count    85077.000000\n",
       "mean      2008.479201\n",
       "std          7.922313\n",
       "min       1935.000000\n",
       "25%       2005.000000\n",
       "50%       2010.000000\n",
       "75%       2014.000000\n",
       "max       2020.000000\n",
       "Name: modelDate, dtype: float64"
      ]
     },
     "metadata": {},
     "output_type": "display_data"
    },
    {
     "name": "stdout",
     "output_type": "stream",
     "text": [
      "Различных значений c учётом NaN: 69\n",
      "              \t  без учёта NaN: 69 \n",
      "Пропусков: 0\n",
      "Значений, встретившихся в столбце более 10 раз: 48\n"
     ]
    },
    {
     "data": {
      "image/png": "[encoded data removed]",
      "text/plain": [
       "<Figure size 432x288 with 1 Axes>"
      ]
     },
     "metadata": {
      "needs_background": "light"
     },
     "output_type": "display_data"
    }
   ],
   "source": [
    "feature_info(cars.modelDate)"
   ]
  },
  {
   "cell_type": "markdown",
   "metadata": {},
   "source": [
    "### color"
   ]
  },
  {
   "cell_type": "code",
   "execution_count": 7,
   "metadata": {},
   "outputs": [
    {
     "name": "stdout",
     "output_type": "stream",
     "text": [
      "Тип признака: object\n",
      "Значения признака:\n"
     ]
    },
    {
     "data": {
      "text/html": [
       "<div>\n",
       "<style scoped>\n",
       "    .dataframe tbody tr th:only-of-type {\n",
       "        vertical-align: middle;\n",
       "    }\n",
       "\n",
       "    .dataframe tbody tr th {\n",
       "        vertical-align: top;\n",
       "    }\n",
       "\n",
       "    .dataframe thead th {\n",
       "        text-align: right;\n",
       "    }\n",
       "</style>\n",
       "<table border=\"1\" class=\"dataframe\">\n",
       "  <thead>\n",
       "    <tr style=\"text-align: right;\">\n",
       "      <th></th>\n",
       "      <th>color</th>\n",
       "    </tr>\n",
       "  </thead>\n",
       "  <tbody>\n",
       "    <tr>\n",
       "      <th>чёрный</th>\n",
       "      <td>0.219</td>\n",
       "    </tr>\n",
       "    <tr>\n",
       "      <th>белый</th>\n",
       "      <td>0.211</td>\n",
       "    </tr>\n",
       "    <tr>\n",
       "      <th>серебристый</th>\n",
       "      <td>0.150</td>\n",
       "    </tr>\n",
       "    <tr>\n",
       "      <th>серый</th>\n",
       "      <td>0.128</td>\n",
       "    </tr>\n",
       "    <tr>\n",
       "      <th>синий</th>\n",
       "      <td>0.083</td>\n",
       "    </tr>\n",
       "    <tr>\n",
       "      <th>красный</th>\n",
       "      <td>0.056</td>\n",
       "    </tr>\n",
       "    <tr>\n",
       "      <th>коричневый</th>\n",
       "      <td>0.045</td>\n",
       "    </tr>\n",
       "    <tr>\n",
       "      <th>зелёный</th>\n",
       "      <td>0.033</td>\n",
       "    </tr>\n",
       "    <tr>\n",
       "      <th>бежевый</th>\n",
       "      <td>0.026</td>\n",
       "    </tr>\n",
       "    <tr>\n",
       "      <th>голубой</th>\n",
       "      <td>0.016</td>\n",
       "    </tr>\n",
       "    <tr>\n",
       "      <th>пурпурный</th>\n",
       "      <td>0.008</td>\n",
       "    </tr>\n",
       "    <tr>\n",
       "      <th>золотистый</th>\n",
       "      <td>0.008</td>\n",
       "    </tr>\n",
       "    <tr>\n",
       "      <th>фиолетовый</th>\n",
       "      <td>0.007</td>\n",
       "    </tr>\n",
       "    <tr>\n",
       "      <th>оранжевый</th>\n",
       "      <td>0.006</td>\n",
       "    </tr>\n",
       "    <tr>\n",
       "      <th>жёлтый</th>\n",
       "      <td>0.004</td>\n",
       "    </tr>\n",
       "    <tr>\n",
       "      <th>розовый</th>\n",
       "      <td>0.000</td>\n",
       "    </tr>\n",
       "  </tbody>\n",
       "</table>\n",
       "</div>"
      ],
      "text/plain": [
       "             color\n",
       "чёрный       0.219\n",
       "белый        0.211\n",
       "серебристый  0.150\n",
       "серый        0.128\n",
       "синий        0.083\n",
       "красный      0.056\n",
       "коричневый   0.045\n",
       "зелёный      0.033\n",
       "бежевый      0.026\n",
       "голубой      0.016\n",
       "пурпурный    0.008\n",
       "золотистый   0.008\n",
       "фиолетовый   0.007\n",
       "оранжевый    0.006\n",
       "жёлтый       0.004\n",
       "розовый      0.000"
      ]
     },
     "metadata": {},
     "output_type": "display_data"
    },
    {
     "name": "stdout",
     "output_type": "stream",
     "text": [
      "Различных значений c учётом NaN: 16\n",
      "              \t  без учёта NaN: 16 \n",
      "Пропусков: 0\n",
      "Значений, встретившихся в столбце более 10 раз: 16\n"
     ]
    }
   ],
   "source": [
    "feature_info(cars.color)"
   ]
  },
  {
   "cell_type": "markdown",
   "metadata": {},
   "source": [
    "### productionDate"
   ]
  },
  {
   "cell_type": "code",
   "execution_count": 8,
   "metadata": {},
   "outputs": [
    {
     "name": "stdout",
     "output_type": "stream",
     "text": [
      "Тип признака: int64\n",
      "Значения признака:\n"
     ]
    },
    {
     "data": {
      "text/plain": [
       "count    85077.000000\n",
       "mean      2011.523443\n",
       "std          6.597838\n",
       "min       1939.000000\n",
       "25%       2008.000000\n",
       "50%       2012.000000\n",
       "75%       2017.000000\n",
       "max       2020.000000\n",
       "Name: productionDate, dtype: float64"
      ]
     },
     "metadata": {},
     "output_type": "display_data"
    },
    {
     "name": "stdout",
     "output_type": "stream",
     "text": [
      "Различных значений c учётом NaN: 72\n",
      "              \t  без учёта NaN: 72 \n",
      "Пропусков: 0\n",
      "Значений, встретившихся в столбце более 10 раз: 41\n"
     ]
    },
    {
     "data": {
      "image/png": "[encoded data removed]",
      "text/plain": [
       "<Figure size 432x288 with 1 Axes>"
      ]
     },
     "metadata": {
      "needs_background": "light"
     },
     "output_type": "display_data"
    }
   ],
   "source": [
    "feature_info(cars.productionDate)"
   ]
  },
  {
   "cell_type": "markdown",
   "metadata": {},
   "source": [
    "### bodyType"
   ]
  },
  {
   "cell_type": "code",
   "execution_count": 9,
   "metadata": {},
   "outputs": [
    {
     "name": "stdout",
     "output_type": "stream",
     "text": [
      "Тип признака: object\n",
      "Значения признака:\n"
     ]
    },
    {
     "data": {
      "text/html": [
       "<div>\n",
       "<style scoped>\n",
       "    .dataframe tbody tr th:only-of-type {\n",
       "        vertical-align: middle;\n",
       "    }\n",
       "\n",
       "    .dataframe tbody tr th {\n",
       "        vertical-align: top;\n",
       "    }\n",
       "\n",
       "    .dataframe thead th {\n",
       "        text-align: right;\n",
       "    }\n",
       "</style>\n",
       "<table border=\"1\" class=\"dataframe\">\n",
       "  <thead>\n",
       "    <tr style=\"text-align: right;\">\n",
       "      <th></th>\n",
       "      <th>bodyType</th>\n",
       "    </tr>\n",
       "  </thead>\n",
       "  <tbody>\n",
       "    <tr>\n",
       "      <th>седан</th>\n",
       "      <td>0.357</td>\n",
       "    </tr>\n",
       "    <tr>\n",
       "      <th>внедорожник 5 дв.</th>\n",
       "      <td>0.341</td>\n",
       "    </tr>\n",
       "    <tr>\n",
       "      <th>хэтчбек 5 дв.</th>\n",
       "      <td>0.143</td>\n",
       "    </tr>\n",
       "    <tr>\n",
       "      <th>универсал 5 дв.</th>\n",
       "      <td>0.048</td>\n",
       "    </tr>\n",
       "    <tr>\n",
       "      <th>лифтбек</th>\n",
       "      <td>0.033</td>\n",
       "    </tr>\n",
       "    <tr>\n",
       "      <th>компактвэн</th>\n",
       "      <td>0.017</td>\n",
       "    </tr>\n",
       "    <tr>\n",
       "      <th>хэтчбек 3 дв.</th>\n",
       "      <td>0.016</td>\n",
       "    </tr>\n",
       "    <tr>\n",
       "      <th>внедорожник 3 дв.</th>\n",
       "      <td>0.014</td>\n",
       "    </tr>\n",
       "    <tr>\n",
       "      <th>минивэн</th>\n",
       "      <td>0.013</td>\n",
       "    </tr>\n",
       "    <tr>\n",
       "      <th>купе</th>\n",
       "      <td>0.007</td>\n",
       "    </tr>\n",
       "    <tr>\n",
       "      <th>пикап двойная кабина</th>\n",
       "      <td>0.006</td>\n",
       "    </tr>\n",
       "    <tr>\n",
       "      <th>фургон</th>\n",
       "      <td>0.001</td>\n",
       "    </tr>\n",
       "    <tr>\n",
       "      <th>купе-хардтоп</th>\n",
       "      <td>0.001</td>\n",
       "    </tr>\n",
       "    <tr>\n",
       "      <th>родстер</th>\n",
       "      <td>0.001</td>\n",
       "    </tr>\n",
       "    <tr>\n",
       "      <th>кабриолет</th>\n",
       "      <td>0.001</td>\n",
       "    </tr>\n",
       "    <tr>\n",
       "      <th>внедорожник открытый</th>\n",
       "      <td>0.001</td>\n",
       "    </tr>\n",
       "    <tr>\n",
       "      <th>микровэн</th>\n",
       "      <td>0.000</td>\n",
       "    </tr>\n",
       "    <tr>\n",
       "      <th>седан-хардтоп</th>\n",
       "      <td>0.000</td>\n",
       "    </tr>\n",
       "    <tr>\n",
       "      <th>седан 2 дв.</th>\n",
       "      <td>0.000</td>\n",
       "    </tr>\n",
       "    <tr>\n",
       "      <th>пикап одинарная кабина</th>\n",
       "      <td>0.000</td>\n",
       "    </tr>\n",
       "    <tr>\n",
       "      <th>пикап полуторная кабина</th>\n",
       "      <td>0.000</td>\n",
       "    </tr>\n",
       "    <tr>\n",
       "      <th>хэтчбек 4 дв.</th>\n",
       "      <td>0.000</td>\n",
       "    </tr>\n",
       "    <tr>\n",
       "      <th>фастбек</th>\n",
       "      <td>0.000</td>\n",
       "    </tr>\n",
       "    <tr>\n",
       "      <th>лимузин</th>\n",
       "      <td>0.000</td>\n",
       "    </tr>\n",
       "    <tr>\n",
       "      <th>универсал 3 дв.</th>\n",
       "      <td>0.000</td>\n",
       "    </tr>\n",
       "  </tbody>\n",
       "</table>\n",
       "</div>"
      ],
      "text/plain": [
       "                         bodyType\n",
       "седан                       0.357\n",
       "внедорожник 5 дв.           0.341\n",
       "хэтчбек 5 дв.               0.143\n",
       "универсал 5 дв.             0.048\n",
       "лифтбек                     0.033\n",
       "компактвэн                  0.017\n",
       "хэтчбек 3 дв.               0.016\n",
       "внедорожник 3 дв.           0.014\n",
       "минивэн                     0.013\n",
       "купе                        0.007\n",
       "пикап двойная кабина        0.006\n",
       "фургон                      0.001\n",
       "купе-хардтоп                0.001\n",
       "родстер                     0.001\n",
       "кабриолет                   0.001\n",
       "внедорожник открытый        0.001\n",
       "микровэн                    0.000\n",
       "седан-хардтоп               0.000\n",
       "седан 2 дв.                 0.000\n",
       "пикап одинарная кабина      0.000\n",
       "пикап полуторная кабина     0.000\n",
       "хэтчбек 4 дв.               0.000\n",
       "фастбек                     0.000\n",
       "лимузин                     0.000\n",
       "универсал 3 дв.             0.000"
      ]
     },
     "metadata": {},
     "output_type": "display_data"
    },
    {
     "name": "stdout",
     "output_type": "stream",
     "text": [
      "Различных значений c учётом NaN: 25\n",
      "              \t  без учёта NaN: 25 \n",
      "Пропусков: 0\n",
      "Значений, встретившихся в столбце более 10 раз: 19\n"
     ]
    }
   ],
   "source": [
    "feature_info(cars.bodyType)"
   ]
  },
  {
   "cell_type": "markdown",
   "metadata": {},
   "source": [
    "Есть отдельный признак, в котором хранится количество дверей, поэтому удалим его из этого признака"
   ]
  },
  {
   "cell_type": "code",
   "execution_count": 10,
   "metadata": {},
   "outputs": [
    {
     "name": "stdout",
     "output_type": "stream",
     "text": [
      "Тип признака: object\n",
      "Значения признака:\n"
     ]
    },
    {
     "data": {
      "text/html": [
       "<div>\n",
       "<style scoped>\n",
       "    .dataframe tbody tr th:only-of-type {\n",
       "        vertical-align: middle;\n",
       "    }\n",
       "\n",
       "    .dataframe tbody tr th {\n",
       "        vertical-align: top;\n",
       "    }\n",
       "\n",
       "    .dataframe thead th {\n",
       "        text-align: right;\n",
       "    }\n",
       "</style>\n",
       "<table border=\"1\" class=\"dataframe\">\n",
       "  <thead>\n",
       "    <tr style=\"text-align: right;\">\n",
       "      <th></th>\n",
       "      <th>bodyType</th>\n",
       "    </tr>\n",
       "  </thead>\n",
       "  <tbody>\n",
       "    <tr>\n",
       "      <th>седан</th>\n",
       "      <td>0.357</td>\n",
       "    </tr>\n",
       "    <tr>\n",
       "      <th>внедорожник</th>\n",
       "      <td>0.355</td>\n",
       "    </tr>\n",
       "    <tr>\n",
       "      <th>хэтчбек</th>\n",
       "      <td>0.159</td>\n",
       "    </tr>\n",
       "    <tr>\n",
       "      <th>универсал</th>\n",
       "      <td>0.048</td>\n",
       "    </tr>\n",
       "    <tr>\n",
       "      <th>лифтбек</th>\n",
       "      <td>0.033</td>\n",
       "    </tr>\n",
       "    <tr>\n",
       "      <th>компактвэн</th>\n",
       "      <td>0.017</td>\n",
       "    </tr>\n",
       "    <tr>\n",
       "      <th>минивэн</th>\n",
       "      <td>0.013</td>\n",
       "    </tr>\n",
       "    <tr>\n",
       "      <th>купе</th>\n",
       "      <td>0.007</td>\n",
       "    </tr>\n",
       "    <tr>\n",
       "      <th>пикап двойная кабина</th>\n",
       "      <td>0.006</td>\n",
       "    </tr>\n",
       "    <tr>\n",
       "      <th>фургон</th>\n",
       "      <td>0.001</td>\n",
       "    </tr>\n",
       "    <tr>\n",
       "      <th>купе-хардтоп</th>\n",
       "      <td>0.001</td>\n",
       "    </tr>\n",
       "    <tr>\n",
       "      <th>родстер</th>\n",
       "      <td>0.001</td>\n",
       "    </tr>\n",
       "    <tr>\n",
       "      <th>кабриолет</th>\n",
       "      <td>0.001</td>\n",
       "    </tr>\n",
       "    <tr>\n",
       "      <th>внедорожник открытый</th>\n",
       "      <td>0.001</td>\n",
       "    </tr>\n",
       "    <tr>\n",
       "      <th>микровэн</th>\n",
       "      <td>0.000</td>\n",
       "    </tr>\n",
       "    <tr>\n",
       "      <th>седан-хардтоп</th>\n",
       "      <td>0.000</td>\n",
       "    </tr>\n",
       "    <tr>\n",
       "      <th>седан</th>\n",
       "      <td>0.000</td>\n",
       "    </tr>\n",
       "    <tr>\n",
       "      <th>пикап одинарная кабина</th>\n",
       "      <td>0.000</td>\n",
       "    </tr>\n",
       "    <tr>\n",
       "      <th>пикап полуторная кабина</th>\n",
       "      <td>0.000</td>\n",
       "    </tr>\n",
       "    <tr>\n",
       "      <th>фастбек</th>\n",
       "      <td>0.000</td>\n",
       "    </tr>\n",
       "    <tr>\n",
       "      <th>лимузин</th>\n",
       "      <td>0.000</td>\n",
       "    </tr>\n",
       "  </tbody>\n",
       "</table>\n",
       "</div>"
      ],
      "text/plain": [
       "                         bodyType\n",
       "седан                       0.357\n",
       "внедорожник                 0.355\n",
       "хэтчбек                     0.159\n",
       "универсал                   0.048\n",
       "лифтбек                     0.033\n",
       "компактвэн                  0.017\n",
       "минивэн                     0.013\n",
       "купе                        0.007\n",
       "пикап двойная кабина        0.006\n",
       "фургон                      0.001\n",
       "купе-хардтоп                0.001\n",
       "родстер                     0.001\n",
       "кабриолет                   0.001\n",
       "внедорожник открытый        0.001\n",
       "микровэн                    0.000\n",
       "седан-хардтоп               0.000\n",
       "седан                       0.000\n",
       "пикап одинарная кабина      0.000\n",
       "пикап полуторная кабина     0.000\n",
       "фастбек                     0.000\n",
       "лимузин                     0.000"
      ]
     },
     "metadata": {},
     "output_type": "display_data"
    },
    {
     "name": "stdout",
     "output_type": "stream",
     "text": [
      "Различных значений c учётом NaN: 21\n",
      "              \t  без учёта NaN: 21 \n",
      "Пропусков: 0\n",
      "Значений, встретившихся в столбце более 10 раз: 17\n"
     ]
    }
   ],
   "source": [
    "cars.bodyType = cars.bodyType.apply(lambda x: re.sub(\"\\d дв\\.\", \"\", x))\n",
    "feature_info(cars.bodyType)"
   ]
  },
  {
   "cell_type": "markdown",
   "metadata": {},
   "source": [
    "### fuelType  "
   ]
  },
  {
   "cell_type": "code",
   "execution_count": 11,
   "metadata": {},
   "outputs": [
    {
     "name": "stdout",
     "output_type": "stream",
     "text": [
      "Тип признака: object\n",
      "Значения признака:\n"
     ]
    },
    {
     "data": {
      "text/html": [
       "<div>\n",
       "<style scoped>\n",
       "    .dataframe tbody tr th:only-of-type {\n",
       "        vertical-align: middle;\n",
       "    }\n",
       "\n",
       "    .dataframe tbody tr th {\n",
       "        vertical-align: top;\n",
       "    }\n",
       "\n",
       "    .dataframe thead th {\n",
       "        text-align: right;\n",
       "    }\n",
       "</style>\n",
       "<table border=\"1\" class=\"dataframe\">\n",
       "  <thead>\n",
       "    <tr style=\"text-align: right;\">\n",
       "      <th></th>\n",
       "      <th>fuelType</th>\n",
       "    </tr>\n",
       "  </thead>\n",
       "  <tbody>\n",
       "    <tr>\n",
       "      <th>бензин</th>\n",
       "      <td>0.892</td>\n",
       "    </tr>\n",
       "    <tr>\n",
       "      <th>дизель</th>\n",
       "      <td>0.104</td>\n",
       "    </tr>\n",
       "    <tr>\n",
       "      <th>гибрид</th>\n",
       "      <td>0.003</td>\n",
       "    </tr>\n",
       "    <tr>\n",
       "      <th>электро</th>\n",
       "      <td>0.001</td>\n",
       "    </tr>\n",
       "    <tr>\n",
       "      <th>газ</th>\n",
       "      <td>0.000</td>\n",
       "    </tr>\n",
       "  </tbody>\n",
       "</table>\n",
       "</div>"
      ],
      "text/plain": [
       "         fuelType\n",
       "бензин      0.892\n",
       "дизель      0.104\n",
       "гибрид      0.003\n",
       "электро     0.001\n",
       "газ         0.000"
      ]
     },
     "metadata": {},
     "output_type": "display_data"
    },
    {
     "name": "stdout",
     "output_type": "stream",
     "text": [
      "Различных значений c учётом NaN: 5\n",
      "              \t  без учёта NaN: 5 \n",
      "Пропусков: 0\n",
      "Значений, встретившихся в столбце более 10 раз: 5\n"
     ]
    }
   ],
   "source": [
    "feature_info(cars.fuelType)"
   ]
  },
  {
   "cell_type": "markdown",
   "metadata": {},
   "source": [
    "### numberOfDoors"
   ]
  },
  {
   "cell_type": "code",
   "execution_count": 12,
   "metadata": {},
   "outputs": [
    {
     "name": "stdout",
     "output_type": "stream",
     "text": [
      "Тип признака: int64\n",
      "Значения признака:\n"
     ]
    },
    {
     "data": {
      "text/plain": [
       "count    85077.000000\n",
       "mean         4.541827\n",
       "std          0.605684\n",
       "min          0.000000\n",
       "25%          4.000000\n",
       "50%          5.000000\n",
       "75%          5.000000\n",
       "max          5.000000\n",
       "Name: numberOfDoors, dtype: float64"
      ]
     },
     "metadata": {},
     "output_type": "display_data"
    },
    {
     "name": "stdout",
     "output_type": "stream",
     "text": [
      "Различных значений c учётом NaN: 5\n",
      "              \t  без учёта NaN: 5 \n",
      "Пропусков: 0\n",
      "Значений, встретившихся в столбце более 10 раз: 4\n"
     ]
    },
    {
     "data": {
      "image/png": "[encoded data removed]",
      "text/plain": [
       "<Figure size 432x288 with 1 Axes>"
      ]
     },
     "metadata": {
      "needs_background": "light"
     },
     "output_type": "display_data"
    }
   ],
   "source": [
    "feature_info(cars.numberOfDoors)"
   ]
  },
  {
   "cell_type": "markdown",
   "metadata": {},
   "source": [
    "### vehicleConfiguration"
   ]
  },
  {
   "cell_type": "code",
   "execution_count": 13,
   "metadata": {},
   "outputs": [
    {
     "name": "stdout",
     "output_type": "stream",
     "text": [
      "Тип признака: object\n",
      "Значения признака:\n"
     ]
    },
    {
     "data": {
      "text/html": [
       "<div>\n",
       "<style scoped>\n",
       "    .dataframe tbody tr th:only-of-type {\n",
       "        vertical-align: middle;\n",
       "    }\n",
       "\n",
       "    .dataframe tbody tr th {\n",
       "        vertical-align: top;\n",
       "    }\n",
       "\n",
       "    .dataframe thead th {\n",
       "        text-align: right;\n",
       "    }\n",
       "</style>\n",
       "<table border=\"1\" class=\"dataframe\">\n",
       "  <thead>\n",
       "    <tr style=\"text-align: right;\">\n",
       "      <th></th>\n",
       "      <th>vehicleConfiguration</th>\n",
       "    </tr>\n",
       "  </thead>\n",
       "  <tbody>\n",
       "    <tr>\n",
       "      <th>SEDAN MECHANICAL 1.6</th>\n",
       "      <td>0.104</td>\n",
       "    </tr>\n",
       "    <tr>\n",
       "      <th>ALLROAD_5_DOORS AUTOMATIC 2.0</th>\n",
       "      <td>0.059</td>\n",
       "    </tr>\n",
       "    <tr>\n",
       "      <th>SEDAN AUTOMATIC 1.6</th>\n",
       "      <td>0.049</td>\n",
       "    </tr>\n",
       "    <tr>\n",
       "      <th>HATCHBACK_5_DOORS MECHANICAL 1.6</th>\n",
       "      <td>0.047</td>\n",
       "    </tr>\n",
       "    <tr>\n",
       "      <th>ALLROAD_5_DOORS AUTOMATIC 3.0</th>\n",
       "      <td>0.033</td>\n",
       "    </tr>\n",
       "    <tr>\n",
       "      <th>...</th>\n",
       "      <td>...</td>\n",
       "    </tr>\n",
       "    <tr>\n",
       "      <th>ALLROAD_5_DOORS VARIATOR 2.2</th>\n",
       "      <td>0.000</td>\n",
       "    </tr>\n",
       "    <tr>\n",
       "      <th>CABRIO AUTOMATIC 2.7</th>\n",
       "      <td>0.000</td>\n",
       "    </tr>\n",
       "    <tr>\n",
       "      <th>CABRIO MECHANICAL 3.0</th>\n",
       "      <td>0.000</td>\n",
       "    </tr>\n",
       "    <tr>\n",
       "      <th>PICKUP_ONE AUTOMATIC 4.7</th>\n",
       "      <td>0.000</td>\n",
       "    </tr>\n",
       "    <tr>\n",
       "      <th>PICKUP_TWO AUTOMATIC 4.6</th>\n",
       "      <td>0.000</td>\n",
       "    </tr>\n",
       "  </tbody>\n",
       "</table>\n",
       "<p>739 rows × 1 columns</p>\n",
       "</div>"
      ],
      "text/plain": [
       "                                  vehicleConfiguration\n",
       "SEDAN MECHANICAL 1.6                             0.104\n",
       "ALLROAD_5_DOORS AUTOMATIC 2.0                    0.059\n",
       "SEDAN AUTOMATIC 1.6                              0.049\n",
       "HATCHBACK_5_DOORS MECHANICAL 1.6                 0.047\n",
       "ALLROAD_5_DOORS AUTOMATIC 3.0                    0.033\n",
       "...                                                ...\n",
       "ALLROAD_5_DOORS VARIATOR 2.2                     0.000\n",
       "CABRIO AUTOMATIC 2.7                             0.000\n",
       "CABRIO MECHANICAL 3.0                            0.000\n",
       "PICKUP_ONE AUTOMATIC 4.7                         0.000\n",
       "PICKUP_TWO AUTOMATIC 4.6                         0.000\n",
       "\n",
       "[739 rows x 1 columns]"
      ]
     },
     "metadata": {},
     "output_type": "display_data"
    },
    {
     "name": "stdout",
     "output_type": "stream",
     "text": [
      "Различных значений c учётом NaN: 739\n",
      "              \t  без учёта NaN: 739 \n",
      "Пропусков: 0\n",
      "Значений, встретившихся в столбце более 10 раз: 328\n"
     ]
    }
   ],
   "source": [
    "feature_info(cars.vehicleConfiguration)"
   ]
  },
  {
   "cell_type": "markdown",
   "metadata": {},
   "source": [
    "Информация этого признака представлена другими отдельными признаками, поэтому его можно удалить"
   ]
  },
  {
   "cell_type": "code",
   "execution_count": 14,
   "metadata": {},
   "outputs": [],
   "source": [
    "cars.drop(['vehicleConfiguration'], axis=1, inplace=True)"
   ]
  },
  {
   "cell_type": "markdown",
   "metadata": {},
   "source": [
    "### vehicleTransmission"
   ]
  },
  {
   "cell_type": "code",
   "execution_count": 15,
   "metadata": {},
   "outputs": [
    {
     "name": "stdout",
     "output_type": "stream",
     "text": [
      "Тип признака: object\n",
      "Значения признака:\n"
     ]
    },
    {
     "data": {
      "text/html": [
       "<div>\n",
       "<style scoped>\n",
       "    .dataframe tbody tr th:only-of-type {\n",
       "        vertical-align: middle;\n",
       "    }\n",
       "\n",
       "    .dataframe tbody tr th {\n",
       "        vertical-align: top;\n",
       "    }\n",
       "\n",
       "    .dataframe thead th {\n",
       "        text-align: right;\n",
       "    }\n",
       "</style>\n",
       "<table border=\"1\" class=\"dataframe\">\n",
       "  <thead>\n",
       "    <tr style=\"text-align: right;\">\n",
       "      <th></th>\n",
       "      <th>vehicleTransmission</th>\n",
       "    </tr>\n",
       "  </thead>\n",
       "  <tbody>\n",
       "    <tr>\n",
       "      <th>механическая</th>\n",
       "      <td>0.440</td>\n",
       "    </tr>\n",
       "    <tr>\n",
       "      <th>автоматическая</th>\n",
       "      <td>0.418</td>\n",
       "    </tr>\n",
       "    <tr>\n",
       "      <th>вариатор</th>\n",
       "      <td>0.078</td>\n",
       "    </tr>\n",
       "    <tr>\n",
       "      <th>роботизированная</th>\n",
       "      <td>0.065</td>\n",
       "    </tr>\n",
       "  </tbody>\n",
       "</table>\n",
       "</div>"
      ],
      "text/plain": [
       "                  vehicleTransmission\n",
       "механическая                    0.440\n",
       "автоматическая                  0.418\n",
       "вариатор                        0.078\n",
       "роботизированная                0.065"
      ]
     },
     "metadata": {},
     "output_type": "display_data"
    },
    {
     "name": "stdout",
     "output_type": "stream",
     "text": [
      "Различных значений c учётом NaN: 4\n",
      "              \t  без учёта NaN: 4 \n",
      "Пропусков: 0\n",
      "Значений, встретившихся в столбце более 10 раз: 4\n"
     ]
    }
   ],
   "source": [
    "feature_info(cars.vehicleTransmission)"
   ]
  },
  {
   "cell_type": "markdown",
   "metadata": {},
   "source": [
    "### engineDisplacement"
   ]
  },
  {
   "cell_type": "code",
   "execution_count": 16,
   "metadata": {},
   "outputs": [
    {
     "name": "stdout",
     "output_type": "stream",
     "text": [
      "Тип признака: object\n",
      "Значения признака:\n"
     ]
    },
    {
     "data": {
      "text/html": [
       "<div>\n",
       "<style scoped>\n",
       "    .dataframe tbody tr th:only-of-type {\n",
       "        vertical-align: middle;\n",
       "    }\n",
       "\n",
       "    .dataframe tbody tr th {\n",
       "        vertical-align: top;\n",
       "    }\n",
       "\n",
       "    .dataframe thead th {\n",
       "        text-align: right;\n",
       "    }\n",
       "</style>\n",
       "<table border=\"1\" class=\"dataframe\">\n",
       "  <thead>\n",
       "    <tr style=\"text-align: right;\">\n",
       "      <th></th>\n",
       "      <th>engineDisplacement</th>\n",
       "    </tr>\n",
       "  </thead>\n",
       "  <tbody>\n",
       "    <tr>\n",
       "      <th>1.6 LTR</th>\n",
       "      <td>0.324</td>\n",
       "    </tr>\n",
       "    <tr>\n",
       "      <th>2.0 LTR</th>\n",
       "      <td>0.191</td>\n",
       "    </tr>\n",
       "    <tr>\n",
       "      <th>1.4 LTR</th>\n",
       "      <td>0.064</td>\n",
       "    </tr>\n",
       "    <tr>\n",
       "      <th>1.5 LTR</th>\n",
       "      <td>0.060</td>\n",
       "    </tr>\n",
       "    <tr>\n",
       "      <th>1.8 LTR</th>\n",
       "      <td>0.056</td>\n",
       "    </tr>\n",
       "    <tr>\n",
       "      <th>...</th>\n",
       "      <td>...</td>\n",
       "    </tr>\n",
       "    <tr>\n",
       "      <th>8.3 LTR</th>\n",
       "      <td>0.000</td>\n",
       "    </tr>\n",
       "    <tr>\n",
       "      <th>7.0 LTR</th>\n",
       "      <td>0.000</td>\n",
       "    </tr>\n",
       "    <tr>\n",
       "      <th>6.7 LTR</th>\n",
       "      <td>0.000</td>\n",
       "    </tr>\n",
       "    <tr>\n",
       "      <th>6.3 LTR</th>\n",
       "      <td>0.000</td>\n",
       "    </tr>\n",
       "    <tr>\n",
       "      <th>0.6 LTR</th>\n",
       "      <td>0.000</td>\n",
       "    </tr>\n",
       "  </tbody>\n",
       "</table>\n",
       "<p>67 rows × 1 columns</p>\n",
       "</div>"
      ],
      "text/plain": [
       "         engineDisplacement\n",
       "1.6 LTR               0.324\n",
       "2.0 LTR               0.191\n",
       "1.4 LTR               0.064\n",
       "1.5 LTR               0.060\n",
       "1.8 LTR               0.056\n",
       "...                     ...\n",
       "8.3 LTR               0.000\n",
       "7.0 LTR               0.000\n",
       "6.7 LTR               0.000\n",
       "6.3 LTR               0.000\n",
       "0.6 LTR               0.000\n",
       "\n",
       "[67 rows x 1 columns]"
      ]
     },
     "metadata": {},
     "output_type": "display_data"
    },
    {
     "name": "stdout",
     "output_type": "stream",
     "text": [
      "Различных значений c учётом NaN: 67\n",
      "              \t  без учёта NaN: 67 \n",
      "Пропусков: 0\n",
      "Значений, встретившихся в столбце более 10 раз: 51\n"
     ]
    }
   ],
   "source": [
    "feature_info(cars.engineDisplacement)"
   ]
  },
  {
   "cell_type": "markdown",
   "metadata": {},
   "source": [
    "Избавимся от окончания LTR и переведём признак в числовой предварительно избавившись от значения undefined, заменив его на самое частое"
   ]
  },
  {
   "cell_type": "code",
   "execution_count": 17,
   "metadata": {},
   "outputs": [
    {
     "name": "stdout",
     "output_type": "stream",
     "text": [
      "Тип признака: float64\n",
      "Значения признака:\n"
     ]
    },
    {
     "data": {
      "text/plain": [
       "count    85077.000000\n",
       "mean         1.985597\n",
       "std          0.723115\n",
       "min          0.200000\n",
       "25%          1.600000\n",
       "50%          1.700000\n",
       "75%          2.000000\n",
       "max          8.300000\n",
       "Name: engineDisplacement, dtype: float64"
      ]
     },
     "metadata": {},
     "output_type": "display_data"
    },
    {
     "name": "stdout",
     "output_type": "stream",
     "text": [
      "Различных значений c учётом NaN: 66\n",
      "              \t  без учёта NaN: 66 \n",
      "Пропусков: 0\n",
      "Значений, встретившихся в столбце более 10 раз: 50\n"
     ]
    },
    {
     "data": {
      "image/png": "[encoded data removed]",
      "text/plain": [
       "<Figure size 432x288 with 1 Axes>"
      ]
     },
     "metadata": {
      "needs_background": "light"
     },
     "output_type": "display_data"
    }
   ],
   "source": [
    "cars.engineDisplacement = cars.engineDisplacement.apply(lambda x: \"1.6 LTR\" if x=='undefined LTR' else x)\n",
    "cars.engineDisplacement = cars.engineDisplacement.apply(lambda x: (re.sub(\" LTR\", \"\", x))).astype(float)\n",
    "feature_info(cars.engineDisplacement)"
   ]
  },
  {
   "cell_type": "markdown",
   "metadata": {},
   "source": [
    "### whilleType"
   ]
  },
  {
   "cell_type": "code",
   "execution_count": 18,
   "metadata": {},
   "outputs": [
    {
     "name": "stdout",
     "output_type": "stream",
     "text": [
      "Тип признака: object\n",
      "Значения признака:\n"
     ]
    },
    {
     "data": {
      "text/html": [
       "<div>\n",
       "<style scoped>\n",
       "    .dataframe tbody tr th:only-of-type {\n",
       "        vertical-align: middle;\n",
       "    }\n",
       "\n",
       "    .dataframe tbody tr th {\n",
       "        vertical-align: top;\n",
       "    }\n",
       "\n",
       "    .dataframe thead th {\n",
       "        text-align: right;\n",
       "    }\n",
       "</style>\n",
       "<table border=\"1\" class=\"dataframe\">\n",
       "  <thead>\n",
       "    <tr style=\"text-align: right;\">\n",
       "      <th></th>\n",
       "      <th>whilleType</th>\n",
       "    </tr>\n",
       "  </thead>\n",
       "  <tbody>\n",
       "    <tr>\n",
       "      <th>Левый</th>\n",
       "      <td>0.823</td>\n",
       "    </tr>\n",
       "    <tr>\n",
       "      <th>NaN</th>\n",
       "      <td>0.148</td>\n",
       "    </tr>\n",
       "    <tr>\n",
       "      <th>Правый</th>\n",
       "      <td>0.029</td>\n",
       "    </tr>\n",
       "  </tbody>\n",
       "</table>\n",
       "</div>"
      ],
      "text/plain": [
       "        whilleType\n",
       "Левый        0.823\n",
       "NaN          0.148\n",
       "Правый       0.029"
      ]
     },
     "metadata": {},
     "output_type": "display_data"
    },
    {
     "name": "stdout",
     "output_type": "stream",
     "text": [
      "Различных значений c учётом NaN: 3\n",
      "              \t  без учёта NaN: 2 \n",
      "Пропусков: 12564\n",
      "Значений, встретившихся в столбце более 10 раз: 2\n"
     ]
    }
   ],
   "source": [
    "feature_info(cars.whilleType)"
   ]
  },
  {
   "cell_type": "markdown",
   "metadata": {},
   "source": [
    "Пропуски образовались у новых автомобилей из-за особенностей разбора, заменим их на левый (новые автомобили в РФ только с левым рулём)"
   ]
  },
  {
   "cell_type": "code",
   "execution_count": 19,
   "metadata": {},
   "outputs": [],
   "source": [
    "cars.whilleType.fillna('Левый', inplace=True)"
   ]
  },
  {
   "cell_type": "code",
   "execution_count": 20,
   "metadata": {},
   "outputs": [
    {
     "name": "stdout",
     "output_type": "stream",
     "text": [
      "Тип признака: object\n",
      "Значения признака:\n"
     ]
    },
    {
     "data": {
      "text/html": [
       "<div>\n",
       "<style scoped>\n",
       "    .dataframe tbody tr th:only-of-type {\n",
       "        vertical-align: middle;\n",
       "    }\n",
       "\n",
       "    .dataframe tbody tr th {\n",
       "        vertical-align: top;\n",
       "    }\n",
       "\n",
       "    .dataframe thead th {\n",
       "        text-align: right;\n",
       "    }\n",
       "</style>\n",
       "<table border=\"1\" class=\"dataframe\">\n",
       "  <thead>\n",
       "    <tr style=\"text-align: right;\">\n",
       "      <th></th>\n",
       "      <th>whilleType</th>\n",
       "    </tr>\n",
       "  </thead>\n",
       "  <tbody>\n",
       "    <tr>\n",
       "      <th>Левый</th>\n",
       "      <td>0.971</td>\n",
       "    </tr>\n",
       "    <tr>\n",
       "      <th>Правый</th>\n",
       "      <td>0.029</td>\n",
       "    </tr>\n",
       "  </tbody>\n",
       "</table>\n",
       "</div>"
      ],
      "text/plain": [
       "        whilleType\n",
       "Левый        0.971\n",
       "Правый       0.029"
      ]
     },
     "metadata": {},
     "output_type": "display_data"
    },
    {
     "name": "stdout",
     "output_type": "stream",
     "text": [
      "Различных значений c учётом NaN: 2\n",
      "              \t  без учёта NaN: 2 \n",
      "Пропусков: 0\n",
      "Значений, встретившихся в столбце более 10 раз: 2\n"
     ]
    }
   ],
   "source": [
    "feature_info(cars.whilleType)"
   ]
  },
  {
   "cell_type": "markdown",
   "metadata": {},
   "source": [
    "### drive"
   ]
  },
  {
   "cell_type": "code",
   "execution_count": 21,
   "metadata": {},
   "outputs": [
    {
     "name": "stdout",
     "output_type": "stream",
     "text": [
      "Тип признака: object\n",
      "Значения признака:\n"
     ]
    },
    {
     "data": {
      "text/html": [
       "<div>\n",
       "<style scoped>\n",
       "    .dataframe tbody tr th:only-of-type {\n",
       "        vertical-align: middle;\n",
       "    }\n",
       "\n",
       "    .dataframe tbody tr th {\n",
       "        vertical-align: top;\n",
       "    }\n",
       "\n",
       "    .dataframe thead th {\n",
       "        text-align: right;\n",
       "    }\n",
       "</style>\n",
       "<table border=\"1\" class=\"dataframe\">\n",
       "  <thead>\n",
       "    <tr style=\"text-align: right;\">\n",
       "      <th></th>\n",
       "      <th>drive</th>\n",
       "    </tr>\n",
       "  </thead>\n",
       "  <tbody>\n",
       "    <tr>\n",
       "      <th>передний</th>\n",
       "      <td>0.533</td>\n",
       "    </tr>\n",
       "    <tr>\n",
       "      <th>полный</th>\n",
       "      <td>0.269</td>\n",
       "    </tr>\n",
       "    <tr>\n",
       "      <th>Передний</th>\n",
       "      <td>0.083</td>\n",
       "    </tr>\n",
       "    <tr>\n",
       "      <th>Полный</th>\n",
       "      <td>0.061</td>\n",
       "    </tr>\n",
       "    <tr>\n",
       "      <th>задний</th>\n",
       "      <td>0.050</td>\n",
       "    </tr>\n",
       "    <tr>\n",
       "      <th>Задний</th>\n",
       "      <td>0.003</td>\n",
       "    </tr>\n",
       "    <tr>\n",
       "      <th>NaN</th>\n",
       "      <td>0.001</td>\n",
       "    </tr>\n",
       "    <tr>\n",
       "      <th>Автоматическая</th>\n",
       "      <td>0.000</td>\n",
       "    </tr>\n",
       "  </tbody>\n",
       "</table>\n",
       "</div>"
      ],
      "text/plain": [
       "                drive\n",
       "передний        0.533\n",
       "полный          0.269\n",
       "Передний        0.083\n",
       "Полный          0.061\n",
       "задний          0.050\n",
       "Задний          0.003\n",
       "NaN             0.001\n",
       "Автоматическая  0.000"
      ]
     },
     "metadata": {},
     "output_type": "display_data"
    },
    {
     "name": "stdout",
     "output_type": "stream",
     "text": [
      "Различных значений c учётом NaN: 8\n",
      "              \t  без учёта NaN: 7 \n",
      "Пропусков: 56\n",
      "Значений, встретившихся в столбце более 10 раз: 7\n"
     ]
    }
   ],
   "source": [
    "feature_info(cars.drive)"
   ]
  },
  {
   "cell_type": "code",
   "execution_count": 22,
   "metadata": {},
   "outputs": [
    {
     "name": "stdout",
     "output_type": "stream",
     "text": [
      "Тип признака: object\n",
      "Значения признака:\n"
     ]
    },
    {
     "data": {
      "text/html": [
       "<div>\n",
       "<style scoped>\n",
       "    .dataframe tbody tr th:only-of-type {\n",
       "        vertical-align: middle;\n",
       "    }\n",
       "\n",
       "    .dataframe tbody tr th {\n",
       "        vertical-align: top;\n",
       "    }\n",
       "\n",
       "    .dataframe thead th {\n",
       "        text-align: right;\n",
       "    }\n",
       "</style>\n",
       "<table border=\"1\" class=\"dataframe\">\n",
       "  <thead>\n",
       "    <tr style=\"text-align: right;\">\n",
       "      <th></th>\n",
       "      <th>drive</th>\n",
       "    </tr>\n",
       "  </thead>\n",
       "  <tbody>\n",
       "    <tr>\n",
       "      <th>передний</th>\n",
       "      <td>0.616</td>\n",
       "    </tr>\n",
       "    <tr>\n",
       "      <th>полный</th>\n",
       "      <td>0.331</td>\n",
       "    </tr>\n",
       "    <tr>\n",
       "      <th>задний</th>\n",
       "      <td>0.053</td>\n",
       "    </tr>\n",
       "    <tr>\n",
       "      <th>NaN</th>\n",
       "      <td>0.001</td>\n",
       "    </tr>\n",
       "    <tr>\n",
       "      <th>автоматическая</th>\n",
       "      <td>0.000</td>\n",
       "    </tr>\n",
       "  </tbody>\n",
       "</table>\n",
       "</div>"
      ],
      "text/plain": [
       "                drive\n",
       "передний        0.616\n",
       "полный          0.331\n",
       "задний          0.053\n",
       "NaN             0.001\n",
       "автоматическая  0.000"
      ]
     },
     "metadata": {},
     "output_type": "display_data"
    },
    {
     "name": "stdout",
     "output_type": "stream",
     "text": [
      "Различных значений c учётом NaN: 5\n",
      "              \t  без учёта NaN: 4 \n",
      "Пропусков: 56\n",
      "Значений, встретившихся в столбце более 10 раз: 4\n"
     ]
    }
   ],
   "source": [
    "cars.drive = cars.drive.str.lower()\n",
    "feature_info(cars.drive)"
   ]
  },
  {
   "cell_type": "markdown",
   "metadata": {},
   "source": [
    "### enginePower"
   ]
  },
  {
   "cell_type": "code",
   "execution_count": 23,
   "metadata": {},
   "outputs": [
    {
     "name": "stdout",
     "output_type": "stream",
     "text": [
      "Тип признака: object\n",
      "Значения признака:\n"
     ]
    },
    {
     "data": {
      "text/html": [
       "<div>\n",
       "<style scoped>\n",
       "    .dataframe tbody tr th:only-of-type {\n",
       "        vertical-align: middle;\n",
       "    }\n",
       "\n",
       "    .dataframe tbody tr th {\n",
       "        vertical-align: top;\n",
       "    }\n",
       "\n",
       "    .dataframe thead th {\n",
       "        text-align: right;\n",
       "    }\n",
       "</style>\n",
       "<table border=\"1\" class=\"dataframe\">\n",
       "  <thead>\n",
       "    <tr style=\"text-align: right;\">\n",
       "      <th></th>\n",
       "      <th>enginePower</th>\n",
       "    </tr>\n",
       "  </thead>\n",
       "  <tbody>\n",
       "    <tr>\n",
       "      <th>150 N12</th>\n",
       "      <td>0.078</td>\n",
       "    </tr>\n",
       "    <tr>\n",
       "      <th>123 N12</th>\n",
       "      <td>0.036</td>\n",
       "    </tr>\n",
       "    <tr>\n",
       "      <th>87 N12</th>\n",
       "      <td>0.031</td>\n",
       "    </tr>\n",
       "    <tr>\n",
       "      <th>105 N12</th>\n",
       "      <td>0.027</td>\n",
       "    </tr>\n",
       "    <tr>\n",
       "      <th>106 N12</th>\n",
       "      <td>0.027</td>\n",
       "    </tr>\n",
       "    <tr>\n",
       "      <th>...</th>\n",
       "      <td>...</td>\n",
       "    </tr>\n",
       "    <tr>\n",
       "      <th>351 N12</th>\n",
       "      <td>0.000</td>\n",
       "    </tr>\n",
       "    <tr>\n",
       "      <th>410 N12</th>\n",
       "      <td>0.000</td>\n",
       "    </tr>\n",
       "    <tr>\n",
       "      <th>363 N12</th>\n",
       "      <td>0.000</td>\n",
       "    </tr>\n",
       "    <tr>\n",
       "      <th>352 N12</th>\n",
       "      <td>0.000</td>\n",
       "    </tr>\n",
       "    <tr>\n",
       "      <th>281 N12</th>\n",
       "      <td>0.000</td>\n",
       "    </tr>\n",
       "  </tbody>\n",
       "</table>\n",
       "<p>386 rows × 1 columns</p>\n",
       "</div>"
      ],
      "text/plain": [
       "         enginePower\n",
       "150 N12        0.078\n",
       "123 N12        0.036\n",
       "87 N12         0.031\n",
       "105 N12        0.027\n",
       "106 N12        0.027\n",
       "...              ...\n",
       "351 N12        0.000\n",
       "410 N12        0.000\n",
       "363 N12        0.000\n",
       "352 N12        0.000\n",
       "281 N12        0.000\n",
       "\n",
       "[386 rows x 1 columns]"
      ]
     },
     "metadata": {},
     "output_type": "display_data"
    },
    {
     "name": "stdout",
     "output_type": "stream",
     "text": [
      "Различных значений c учётом NaN: 386\n",
      "              \t  без учёта NaN: 386 \n",
      "Пропусков: 0\n",
      "Значений, встретившихся в столбце более 10 раз: 248\n"
     ]
    }
   ],
   "source": [
    "feature_info(cars.enginePower)"
   ]
  },
  {
   "cell_type": "code",
   "execution_count": 24,
   "metadata": {},
   "outputs": [],
   "source": [
    "cars.enginePower = cars.enginePower.apply(lambda x: (re.sub(\" N12\", \"\", x))).astype(int)"
   ]
  },
  {
   "cell_type": "code",
   "execution_count": 25,
   "metadata": {},
   "outputs": [
    {
     "name": "stdout",
     "output_type": "stream",
     "text": [
      "Тип признака: int32\n",
      "Значения признака:\n"
     ]
    },
    {
     "data": {
      "text/plain": [
       "count    85077.000000\n",
       "mean       144.032206\n",
       "std         69.646517\n",
       "min         12.000000\n",
       "25%        101.000000\n",
       "50%        125.000000\n",
       "75%        163.000000\n",
       "max        740.000000\n",
       "Name: enginePower, dtype: float64"
      ]
     },
     "metadata": {},
     "output_type": "display_data"
    },
    {
     "name": "stdout",
     "output_type": "stream",
     "text": [
      "Различных значений c учётом NaN: 386\n",
      "              \t  без учёта NaN: 386 \n",
      "Пропусков: 0\n",
      "Значений, встретившихся в столбце более 10 раз: 248\n"
     ]
    },
    {
     "data": {
      "image/png": "[encoded data removed]",
      "text/plain": [
       "<Figure size 432x288 with 1 Axes>"
      ]
     },
     "metadata": {
      "needs_background": "light"
     },
     "output_type": "display_data"
    }
   ],
   "source": [
    "feature_info(cars.enginePower)"
   ]
  },
  {
   "cell_type": "markdown",
   "metadata": {},
   "source": [
    "### href"
   ]
  },
  {
   "cell_type": "code",
   "execution_count": 26,
   "metadata": {},
   "outputs": [
    {
     "name": "stdout",
     "output_type": "stream",
     "text": [
      "Тип признака: object\n",
      "Значения признака:\n"
     ]
    },
    {
     "data": {
      "text/html": [
       "<div>\n",
       "<style scoped>\n",
       "    .dataframe tbody tr th:only-of-type {\n",
       "        vertical-align: middle;\n",
       "    }\n",
       "\n",
       "    .dataframe tbody tr th {\n",
       "        vertical-align: top;\n",
       "    }\n",
       "\n",
       "    .dataframe thead th {\n",
       "        text-align: right;\n",
       "    }\n",
       "</style>\n",
       "<table border=\"1\" class=\"dataframe\">\n",
       "  <thead>\n",
       "    <tr style=\"text-align: right;\">\n",
       "      <th></th>\n",
       "      <th>href</th>\n",
       "    </tr>\n",
       "  </thead>\n",
       "  <tbody>\n",
       "    <tr>\n",
       "      <th>https://auto.ru/cars/used/sale/lifan/x50/1098688068-55f97b4d/</th>\n",
       "      <td>0.0</td>\n",
       "    </tr>\n",
       "    <tr>\n",
       "      <th>https://auto.ru/cars/used/sale/volkswagen/polo/1097136816-94640902/</th>\n",
       "      <td>0.0</td>\n",
       "    </tr>\n",
       "    <tr>\n",
       "      <th>https://auto.ru/cars/used/sale/vaz/2110/1098663500-7d6bec02/</th>\n",
       "      <td>0.0</td>\n",
       "    </tr>\n",
       "    <tr>\n",
       "      <th>https://auto.ru/cars/used/sale/ford/explorer/1097239730-4b02f1bc/</th>\n",
       "      <td>0.0</td>\n",
       "    </tr>\n",
       "    <tr>\n",
       "      <th>https://auto.ru/cars/used/sale/peugeot/206/1098855110-ecec8d8c/</th>\n",
       "      <td>0.0</td>\n",
       "    </tr>\n",
       "    <tr>\n",
       "      <th>...</th>\n",
       "      <td>...</td>\n",
       "    </tr>\n",
       "    <tr>\n",
       "      <th>https://auto.ru/cars/new/group/vaz/granta/21575585/21575593/1097045632-ad6daf01/</th>\n",
       "      <td>0.0</td>\n",
       "    </tr>\n",
       "    <tr>\n",
       "      <th>https://auto.ru/cars/used/sale/renault/logan/1098572110-9e554f59/</th>\n",
       "      <td>0.0</td>\n",
       "    </tr>\n",
       "    <tr>\n",
       "      <th>https://auto.ru/cars/used/sale/suzuki/swift/1094529742-640ba07e/</th>\n",
       "      <td>0.0</td>\n",
       "    </tr>\n",
       "    <tr>\n",
       "      <th>https://auto.ru/cars/used/sale/opel/astra/1097836510-bbbf3d51/</th>\n",
       "      <td>0.0</td>\n",
       "    </tr>\n",
       "    <tr>\n",
       "      <th>https://auto.ru/cars/used/sale/vaz/2112/1098800098-4b8c9d4a/</th>\n",
       "      <td>0.0</td>\n",
       "    </tr>\n",
       "  </tbody>\n",
       "</table>\n",
       "<p>84877 rows × 1 columns</p>\n",
       "</div>"
      ],
      "text/plain": [
       "                                                    href\n",
       "https://auto.ru/cars/used/sale/lifan/x50/109868...   0.0\n",
       "https://auto.ru/cars/used/sale/volkswagen/polo/...   0.0\n",
       "https://auto.ru/cars/used/sale/vaz/2110/1098663...   0.0\n",
       "https://auto.ru/cars/used/sale/ford/explorer/10...   0.0\n",
       "https://auto.ru/cars/used/sale/peugeot/206/1098...   0.0\n",
       "...                                                  ...\n",
       "https://auto.ru/cars/new/group/vaz/granta/21575...   0.0\n",
       "https://auto.ru/cars/used/sale/renault/logan/10...   0.0\n",
       "https://auto.ru/cars/used/sale/suzuki/swift/109...   0.0\n",
       "https://auto.ru/cars/used/sale/opel/astra/10978...   0.0\n",
       "https://auto.ru/cars/used/sale/vaz/2112/1098800...   0.0\n",
       "\n",
       "[84877 rows x 1 columns]"
      ]
     },
     "metadata": {},
     "output_type": "display_data"
    },
    {
     "name": "stdout",
     "output_type": "stream",
     "text": [
      "Различных значений c учётом NaN: 84877\n",
      "              \t  без учёта NaN: 84877 \n",
      "Пропусков: 0\n",
      "Значений, встретившихся в столбце более 10 раз: 0\n"
     ]
    }
   ],
   "source": [
    "feature_info(cars.href)"
   ]
  },
  {
   "cell_type": "markdown",
   "metadata": {},
   "source": [
    "### kmAge"
   ]
  },
  {
   "cell_type": "code",
   "execution_count": 27,
   "metadata": {},
   "outputs": [
    {
     "name": "stdout",
     "output_type": "stream",
     "text": [
      "Тип признака: object\n",
      "Значения признака:\n"
     ]
    },
    {
     "data": {
      "text/html": [
       "<div>\n",
       "<style scoped>\n",
       "    .dataframe tbody tr th:only-of-type {\n",
       "        vertical-align: middle;\n",
       "    }\n",
       "\n",
       "    .dataframe tbody tr th {\n",
       "        vertical-align: top;\n",
       "    }\n",
       "\n",
       "    .dataframe thead th {\n",
       "        text-align: right;\n",
       "    }\n",
       "</style>\n",
       "<table border=\"1\" class=\"dataframe\">\n",
       "  <thead>\n",
       "    <tr style=\"text-align: right;\">\n",
       "      <th></th>\n",
       "      <th>kmAge</th>\n",
       "    </tr>\n",
       "  </thead>\n",
       "  <tbody>\n",
       "    <tr>\n",
       "      <th>Новый</th>\n",
       "      <td>0.148</td>\n",
       "    </tr>\n",
       "    <tr>\n",
       "      <th>200 000 км</th>\n",
       "      <td>0.012</td>\n",
       "    </tr>\n",
       "    <tr>\n",
       "      <th>150 000 км</th>\n",
       "      <td>0.012</td>\n",
       "    </tr>\n",
       "    <tr>\n",
       "      <th>120 000 км</th>\n",
       "      <td>0.009</td>\n",
       "    </tr>\n",
       "    <tr>\n",
       "      <th>180 000 км</th>\n",
       "      <td>0.009</td>\n",
       "    </tr>\n",
       "    <tr>\n",
       "      <th>...</th>\n",
       "      <td>...</td>\n",
       "    </tr>\n",
       "    <tr>\n",
       "      <th>60 770 км</th>\n",
       "      <td>0.000</td>\n",
       "    </tr>\n",
       "    <tr>\n",
       "      <th>83 529 км</th>\n",
       "      <td>0.000</td>\n",
       "    </tr>\n",
       "    <tr>\n",
       "      <th>36 400 км</th>\n",
       "      <td>0.000</td>\n",
       "    </tr>\n",
       "    <tr>\n",
       "      <th>7 831 км</th>\n",
       "      <td>0.000</td>\n",
       "    </tr>\n",
       "    <tr>\n",
       "      <th>272 845 км</th>\n",
       "      <td>0.000</td>\n",
       "    </tr>\n",
       "  </tbody>\n",
       "</table>\n",
       "<p>18991 rows × 1 columns</p>\n",
       "</div>"
      ],
      "text/plain": [
       "            kmAge\n",
       "Новый       0.148\n",
       "200 000 км  0.012\n",
       "150 000 км  0.012\n",
       "120 000 км  0.009\n",
       "180 000 км  0.009\n",
       "...           ...\n",
       "60 770 км   0.000\n",
       "83 529 км   0.000\n",
       "36 400 км   0.000\n",
       "7 831 км    0.000\n",
       "272 845 км  0.000\n",
       "\n",
       "[18991 rows x 1 columns]"
      ]
     },
     "metadata": {},
     "output_type": "display_data"
    },
    {
     "name": "stdout",
     "output_type": "stream",
     "text": [
      "Различных значений c учётом NaN: 18991\n",
      "              \t  без учёта NaN: 18991 \n",
      "Пропусков: 0\n",
      "Значений, встретившихся в столбце более 10 раз: 451\n"
     ]
    }
   ],
   "source": [
    "feature_info(cars.kmAge)"
   ]
  },
  {
   "cell_type": "code",
   "execution_count": 28,
   "metadata": {},
   "outputs": [],
   "source": [
    "cars.kmAge = cars.kmAge.apply(lambda x: (re.sub(\"км\", \"\", x)))\n",
    "cars.kmAge = cars.kmAge.apply(lambda x: (re.sub(\"Новый\", \"0\", x)))\n",
    "cars.kmAge = cars.kmAge.apply(lambda x: (re.sub(\"\\xa0\", \"\", x))).astype(int)\n"
   ]
  },
  {
   "cell_type": "code",
   "execution_count": 29,
   "metadata": {},
   "outputs": [
    {
     "name": "stdout",
     "output_type": "stream",
     "text": [
      "Тип признака: int32\n",
      "Значения признака:\n"
     ]
    },
    {
     "data": {
      "text/plain": [
       "count      85077.000000\n",
       "mean      114043.356536\n",
       "std        89751.984530\n",
       "min            0.000000\n",
       "25%        45000.000000\n",
       "50%       107500.000000\n",
       "75%       165000.000000\n",
       "max      1000000.000000\n",
       "Name: kmAge, dtype: float64"
      ]
     },
     "metadata": {},
     "output_type": "display_data"
    },
    {
     "name": "stdout",
     "output_type": "stream",
     "text": [
      "Различных значений c учётом NaN: 18991\n",
      "              \t  без учёта NaN: 18991 \n",
      "Пропусков: 0\n",
      "Значений, встретившихся в столбце более 10 раз: 451\n"
     ]
    },
    {
     "data": {
      "image/png": "[encoded data removed]",
      "text/plain": [
       "<Figure size 432x288 with 1 Axes>"
      ]
     },
     "metadata": {
      "needs_background": "light"
     },
     "output_type": "display_data"
    }
   ],
   "source": [
    "feature_info(cars.kmAge)"
   ]
  },
  {
   "cell_type": "markdown",
   "metadata": {},
   "source": [
    "###  place"
   ]
  },
  {
   "cell_type": "code",
   "execution_count": 30,
   "metadata": {},
   "outputs": [
    {
     "name": "stdout",
     "output_type": "stream",
     "text": [
      "Тип признака: object\n",
      "Значения признака:\n"
     ]
    },
    {
     "data": {
      "text/html": [
       "<div>\n",
       "<style scoped>\n",
       "    .dataframe tbody tr th:only-of-type {\n",
       "        vertical-align: middle;\n",
       "    }\n",
       "\n",
       "    .dataframe tbody tr th {\n",
       "        vertical-align: top;\n",
       "    }\n",
       "\n",
       "    .dataframe thead th {\n",
       "        text-align: right;\n",
       "    }\n",
       "</style>\n",
       "<table border=\"1\" class=\"dataframe\">\n",
       "  <thead>\n",
       "    <tr style=\"text-align: right;\">\n",
       "      <th></th>\n",
       "      <th>place</th>\n",
       "    </tr>\n",
       "  </thead>\n",
       "  <tbody>\n",
       "    <tr>\n",
       "      <th>Москва</th>\n",
       "      <td>0.077</td>\n",
       "    </tr>\n",
       "    <tr>\n",
       "      <th>Нижний Новгород</th>\n",
       "      <td>0.042</td>\n",
       "    </tr>\n",
       "    <tr>\n",
       "      <th>Волгоград</th>\n",
       "      <td>0.042</td>\n",
       "    </tr>\n",
       "    <tr>\n",
       "      <th>Санкт-Петербург</th>\n",
       "      <td>0.042</td>\n",
       "    </tr>\n",
       "    <tr>\n",
       "      <th>Уфа</th>\n",
       "      <td>0.042</td>\n",
       "    </tr>\n",
       "    <tr>\n",
       "      <th>...</th>\n",
       "      <td>...</td>\n",
       "    </tr>\n",
       "    <tr>\n",
       "      <th>Глазки</th>\n",
       "      <td>0.000</td>\n",
       "    </tr>\n",
       "    <tr>\n",
       "      <th>Россошь</th>\n",
       "      <td>0.000</td>\n",
       "    </tr>\n",
       "    <tr>\n",
       "      <th>Кашары</th>\n",
       "      <td>0.000</td>\n",
       "    </tr>\n",
       "    <tr>\n",
       "      <th>Песчанокопское</th>\n",
       "      <td>0.000</td>\n",
       "    </tr>\n",
       "    <tr>\n",
       "      <th>Клин</th>\n",
       "      <td>0.000</td>\n",
       "    </tr>\n",
       "  </tbody>\n",
       "</table>\n",
       "<p>467 rows × 1 columns</p>\n",
       "</div>"
      ],
      "text/plain": [
       "                 place\n",
       "Москва           0.077\n",
       "Нижний Новгород  0.042\n",
       "Волгоград        0.042\n",
       "Санкт-Петербург  0.042\n",
       "Уфа              0.042\n",
       "...                ...\n",
       "Глазки           0.000\n",
       "Россошь          0.000\n",
       "Кашары           0.000\n",
       "Песчанокопское   0.000\n",
       "Клин             0.000\n",
       "\n",
       "[467 rows x 1 columns]"
      ]
     },
     "metadata": {},
     "output_type": "display_data"
    },
    {
     "name": "stdout",
     "output_type": "stream",
     "text": [
      "Различных значений c учётом NaN: 467\n",
      "              \t  без учёта NaN: 467 \n",
      "Пропусков: 0\n",
      "Значений, встретившихся в столбце более 10 раз: 91\n"
     ]
    }
   ],
   "source": [
    "feature_info(cars.place)"
   ]
  },
  {
   "cell_type": "markdown",
   "metadata": {},
   "source": [
    "### VIN"
   ]
  },
  {
   "cell_type": "code",
   "execution_count": 31,
   "metadata": {},
   "outputs": [
    {
     "name": "stdout",
     "output_type": "stream",
     "text": [
      "Тип признака: object\n",
      "Значения признака:\n"
     ]
    },
    {
     "data": {
      "text/html": [
       "<div>\n",
       "<style scoped>\n",
       "    .dataframe tbody tr th:only-of-type {\n",
       "        vertical-align: middle;\n",
       "    }\n",
       "\n",
       "    .dataframe tbody tr th {\n",
       "        vertical-align: top;\n",
       "    }\n",
       "\n",
       "    .dataframe thead th {\n",
       "        text-align: right;\n",
       "    }\n",
       "</style>\n",
       "<table border=\"1\" class=\"dataframe\">\n",
       "  <thead>\n",
       "    <tr style=\"text-align: right;\">\n",
       "      <th></th>\n",
       "      <th>VIN</th>\n",
       "    </tr>\n",
       "  </thead>\n",
       "  <tbody>\n",
       "    <tr>\n",
       "      <th>NaN</th>\n",
       "      <td>0.176</td>\n",
       "    </tr>\n",
       "    <tr>\n",
       "      <th>XTA**************</th>\n",
       "      <td>0.117</td>\n",
       "    </tr>\n",
       "    <tr>\n",
       "      <th>XW8**************</th>\n",
       "      <td>0.041</td>\n",
       "    </tr>\n",
       "    <tr>\n",
       "      <th>Z94**************</th>\n",
       "      <td>0.035</td>\n",
       "    </tr>\n",
       "    <tr>\n",
       "      <th>XWE**************</th>\n",
       "      <td>0.033</td>\n",
       "    </tr>\n",
       "    <tr>\n",
       "      <th>...</th>\n",
       "      <td>...</td>\n",
       "    </tr>\n",
       "    <tr>\n",
       "      <th>5FP**************</th>\n",
       "      <td>0.000</td>\n",
       "    </tr>\n",
       "    <tr>\n",
       "      <th>XUE**************</th>\n",
       "      <td>0.000</td>\n",
       "    </tr>\n",
       "    <tr>\n",
       "      <th>SX70-0***********</th>\n",
       "      <td>0.000</td>\n",
       "    </tr>\n",
       "    <tr>\n",
       "      <th>SXM157***********</th>\n",
       "      <td>0.000</td>\n",
       "    </tr>\n",
       "    <tr>\n",
       "      <th>RA21S-***********</th>\n",
       "      <td>0.000</td>\n",
       "    </tr>\n",
       "  </tbody>\n",
       "</table>\n",
       "<p>770 rows × 1 columns</p>\n",
       "</div>"
      ],
      "text/plain": [
       "                     VIN\n",
       "NaN                0.176\n",
       "XTA**************  0.117\n",
       "XW8**************  0.041\n",
       "Z94**************  0.035\n",
       "XWE**************  0.033\n",
       "...                  ...\n",
       "5FP**************  0.000\n",
       "XUE**************  0.000\n",
       "SX70-0***********  0.000\n",
       "SXM157***********  0.000\n",
       "RA21S-***********  0.000\n",
       "\n",
       "[770 rows x 1 columns]"
      ]
     },
     "metadata": {},
     "output_type": "display_data"
    },
    {
     "name": "stdout",
     "output_type": "stream",
     "text": [
      "Различных значений c учётом NaN: 770\n",
      "              \t  без учёта NaN: 769 \n",
      "Пропусков: 15010\n",
      "Значений, встретившихся в столбце более 10 раз: 177\n"
     ]
    }
   ],
   "source": [
    "feature_info(cars.VIN)"
   ]
  },
  {
   "cell_type": "code",
   "execution_count": 32,
   "metadata": {},
   "outputs": [
    {
     "name": "stdout",
     "output_type": "stream",
     "text": [
      "Тип признака: object\n",
      "Значения признака:\n"
     ]
    },
    {
     "data": {
      "text/html": [
       "<div>\n",
       "<style scoped>\n",
       "    .dataframe tbody tr th:only-of-type {\n",
       "        vertical-align: middle;\n",
       "    }\n",
       "\n",
       "    .dataframe tbody tr th {\n",
       "        vertical-align: top;\n",
       "    }\n",
       "\n",
       "    .dataframe thead th {\n",
       "        text-align: right;\n",
       "    }\n",
       "</style>\n",
       "<table border=\"1\" class=\"dataframe\">\n",
       "  <thead>\n",
       "    <tr style=\"text-align: right;\">\n",
       "      <th></th>\n",
       "      <th>VIN</th>\n",
       "    </tr>\n",
       "  </thead>\n",
       "  <tbody>\n",
       "    <tr>\n",
       "      <th>XXX</th>\n",
       "      <td>0.176</td>\n",
       "    </tr>\n",
       "    <tr>\n",
       "      <th>XTA</th>\n",
       "      <td>0.117</td>\n",
       "    </tr>\n",
       "    <tr>\n",
       "      <th>XW8</th>\n",
       "      <td>0.041</td>\n",
       "    </tr>\n",
       "    <tr>\n",
       "      <th>Z94</th>\n",
       "      <td>0.035</td>\n",
       "    </tr>\n",
       "    <tr>\n",
       "      <th>XWE</th>\n",
       "      <td>0.033</td>\n",
       "    </tr>\n",
       "    <tr>\n",
       "      <th>...</th>\n",
       "      <td>...</td>\n",
       "    </tr>\n",
       "    <tr>\n",
       "      <th>MDH</th>\n",
       "      <td>0.000</td>\n",
       "    </tr>\n",
       "    <tr>\n",
       "      <th>1FD</th>\n",
       "      <td>0.000</td>\n",
       "    </tr>\n",
       "    <tr>\n",
       "      <th>EE1046</th>\n",
       "      <td>0.000</td>\n",
       "    </tr>\n",
       "    <tr>\n",
       "      <th>GS1510</th>\n",
       "      <td>0.000</td>\n",
       "    </tr>\n",
       "    <tr>\n",
       "      <th>VSE</th>\n",
       "      <td>0.000</td>\n",
       "    </tr>\n",
       "  </tbody>\n",
       "</table>\n",
       "<p>770 rows × 1 columns</p>\n",
       "</div>"
      ],
      "text/plain": [
       "          VIN\n",
       "XXX     0.176\n",
       "XTA     0.117\n",
       "XW8     0.041\n",
       "Z94     0.035\n",
       "XWE     0.033\n",
       "...       ...\n",
       "MDH     0.000\n",
       "1FD     0.000\n",
       "EE1046  0.000\n",
       "GS1510  0.000\n",
       "VSE     0.000\n",
       "\n",
       "[770 rows x 1 columns]"
      ]
     },
     "metadata": {},
     "output_type": "display_data"
    },
    {
     "name": "stdout",
     "output_type": "stream",
     "text": [
      "Различных значений c учётом NaN: 770\n",
      "              \t  без учёта NaN: 770 \n",
      "Пропусков: 0\n",
      "Значений, встретившихся в столбце более 10 раз: 178\n"
     ]
    }
   ],
   "source": [
    "cars.VIN.fillna('XXX', inplace=True)\n",
    "cars.VIN = cars.VIN.apply(lambda x: (re.sub(\"\\*\", \"\", x)))\n",
    "feature_info(cars.VIN)"
   ]
  },
  {
   "cell_type": "markdown",
   "metadata": {},
   "source": [
    "### seller"
   ]
  },
  {
   "cell_type": "code",
   "execution_count": 33,
   "metadata": {},
   "outputs": [
    {
     "name": "stdout",
     "output_type": "stream",
     "text": [
      "Тип признака: object\n",
      "Значения признака:\n"
     ]
    },
    {
     "data": {
      "text/html": [
       "<div>\n",
       "<style scoped>\n",
       "    .dataframe tbody tr th:only-of-type {\n",
       "        vertical-align: middle;\n",
       "    }\n",
       "\n",
       "    .dataframe tbody tr th {\n",
       "        vertical-align: top;\n",
       "    }\n",
       "\n",
       "    .dataframe thead th {\n",
       "        text-align: right;\n",
       "    }\n",
       "</style>\n",
       "<table border=\"1\" class=\"dataframe\">\n",
       "  <thead>\n",
       "    <tr style=\"text-align: right;\">\n",
       "      <th></th>\n",
       "      <th>seller</th>\n",
       "    </tr>\n",
       "  </thead>\n",
       "  <tbody>\n",
       "    <tr>\n",
       "      <th>Private</th>\n",
       "      <td>0.564</td>\n",
       "    </tr>\n",
       "    <tr>\n",
       "      <th>БЦР MOTORS</th>\n",
       "      <td>0.005</td>\n",
       "    </tr>\n",
       "    <tr>\n",
       "      <th>КорсАвто Тула</th>\n",
       "      <td>0.005</td>\n",
       "    </tr>\n",
       "    <tr>\n",
       "      <th>Нижегородец Exchange на Комсомольском шоссе</th>\n",
       "      <td>0.004</td>\n",
       "    </tr>\n",
       "    <tr>\n",
       "      <th>Юг-Авто Эксперт Яблоновский</th>\n",
       "      <td>0.003</td>\n",
       "    </tr>\n",
       "    <tr>\n",
       "      <th>...</th>\n",
       "      <td>...</td>\n",
       "    </tr>\n",
       "    <tr>\n",
       "      <th>Лада-Центр Пулково</th>\n",
       "      <td>0.000</td>\n",
       "    </tr>\n",
       "    <tr>\n",
       "      <th>ТрансТехСервис Hyundai Уфа на Рубежной</th>\n",
       "      <td>0.000</td>\n",
       "    </tr>\n",
       "    <tr>\n",
       "      <th>Мерседес Автофорум</th>\n",
       "      <td>0.000</td>\n",
       "    </tr>\n",
       "    <tr>\n",
       "      <th>Автосалон GoodVIN</th>\n",
       "      <td>0.000</td>\n",
       "    </tr>\n",
       "    <tr>\n",
       "      <th>Автосалон Many Cars</th>\n",
       "      <td>0.000</td>\n",
       "    </tr>\n",
       "  </tbody>\n",
       "</table>\n",
       "<p>1590 rows × 1 columns</p>\n",
       "</div>"
      ],
      "text/plain": [
       "                                             seller\n",
       "Private                                       0.564\n",
       "БЦР MOTORS                                    0.005\n",
       "КорсАвто Тула                                 0.005\n",
       "Нижегородец Exchange на Комсомольском шоссе   0.004\n",
       "Юг-Авто Эксперт Яблоновский                   0.003\n",
       "...                                             ...\n",
       "Лада-Центр Пулково                            0.000\n",
       "ТрансТехСервис Hyundai Уфа на Рубежной        0.000\n",
       "Мерседес Автофорум                            0.000\n",
       "Автосалон GoodVIN                             0.000\n",
       "Автосалон Many Cars                           0.000\n",
       "\n",
       "[1590 rows x 1 columns]"
      ]
     },
     "metadata": {},
     "output_type": "display_data"
    },
    {
     "name": "stdout",
     "output_type": "stream",
     "text": [
      "Различных значений c учётом NaN: 1590\n",
      "              \t  без учёта NaN: 1590 \n",
      "Пропусков: 0\n",
      "Значений, встретившихся в столбце более 10 раз: 758\n"
     ]
    }
   ],
   "source": [
    "feature_info(cars.seller)"
   ]
  },
  {
   "cell_type": "code",
   "execution_count": 34,
   "metadata": {},
   "outputs": [
    {
     "name": "stdout",
     "output_type": "stream",
     "text": [
      "Тип признака: object\n",
      "Значения признака:\n"
     ]
    },
    {
     "data": {
      "text/html": [
       "<div>\n",
       "<style scoped>\n",
       "    .dataframe tbody tr th:only-of-type {\n",
       "        vertical-align: middle;\n",
       "    }\n",
       "\n",
       "    .dataframe tbody tr th {\n",
       "        vertical-align: top;\n",
       "    }\n",
       "\n",
       "    .dataframe thead th {\n",
       "        text-align: right;\n",
       "    }\n",
       "</style>\n",
       "<table border=\"1\" class=\"dataframe\">\n",
       "  <thead>\n",
       "    <tr style=\"text-align: right;\">\n",
       "      <th></th>\n",
       "      <th>seller</th>\n",
       "    </tr>\n",
       "  </thead>\n",
       "  <tbody>\n",
       "    <tr>\n",
       "      <th>Private</th>\n",
       "      <td>0.564</td>\n",
       "    </tr>\n",
       "    <tr>\n",
       "      <th>Salon</th>\n",
       "      <td>0.436</td>\n",
       "    </tr>\n",
       "  </tbody>\n",
       "</table>\n",
       "</div>"
      ],
      "text/plain": [
       "         seller\n",
       "Private   0.564\n",
       "Salon     0.436"
      ]
     },
     "metadata": {},
     "output_type": "display_data"
    },
    {
     "name": "stdout",
     "output_type": "stream",
     "text": [
      "Различных значений c учётом NaN: 2\n",
      "              \t  без учёта NaN: 2 \n",
      "Пропусков: 0\n",
      "Значений, встретившихся в столбце более 10 раз: 2\n"
     ]
    }
   ],
   "source": [
    "cars.seller = cars.seller.apply(lambda x: 'Salon' if x!='Private' else x)\n",
    "feature_info(cars.seller)"
   ]
  },
  {
   "cell_type": "markdown",
   "metadata": {},
   "source": [
    "### #owners"
   ]
  },
  {
   "cell_type": "code",
   "execution_count": 35,
   "metadata": {},
   "outputs": [
    {
     "name": "stdout",
     "output_type": "stream",
     "text": [
      "Тип признака: object\n",
      "Значения признака:\n"
     ]
    },
    {
     "data": {
      "text/html": [
       "<div>\n",
       "<style scoped>\n",
       "    .dataframe tbody tr th:only-of-type {\n",
       "        vertical-align: middle;\n",
       "    }\n",
       "\n",
       "    .dataframe tbody tr th {\n",
       "        vertical-align: top;\n",
       "    }\n",
       "\n",
       "    .dataframe thead th {\n",
       "        text-align: right;\n",
       "    }\n",
       "</style>\n",
       "<table border=\"1\" class=\"dataframe\">\n",
       "  <thead>\n",
       "    <tr style=\"text-align: right;\">\n",
       "      <th></th>\n",
       "      <th>#owners</th>\n",
       "    </tr>\n",
       "  </thead>\n",
       "  <tbody>\n",
       "    <tr>\n",
       "      <th>3 или более</th>\n",
       "      <td>0.385</td>\n",
       "    </tr>\n",
       "    <tr>\n",
       "      <th>1 владелец</th>\n",
       "      <td>0.256</td>\n",
       "    </tr>\n",
       "    <tr>\n",
       "      <th>2 владельца</th>\n",
       "      <td>0.212</td>\n",
       "    </tr>\n",
       "    <tr>\n",
       "      <th>0</th>\n",
       "      <td>0.148</td>\n",
       "    </tr>\n",
       "  </tbody>\n",
       "</table>\n",
       "</div>"
      ],
      "text/plain": [
       "             #owners\n",
       "3 или более    0.385\n",
       "1 владелец     0.256\n",
       "2 владельца    0.212\n",
       "0              0.148"
      ]
     },
     "metadata": {},
     "output_type": "display_data"
    },
    {
     "name": "stdout",
     "output_type": "stream",
     "text": [
      "Различных значений c учётом NaN: 4\n",
      "              \t  без учёта NaN: 4 \n",
      "Пропусков: 0\n",
      "Значений, встретившихся в столбце более 10 раз: 4\n"
     ]
    }
   ],
   "source": [
    "feature_info(cars['#owners'])"
   ]
  },
  {
   "cell_type": "code",
   "execution_count": 36,
   "metadata": {},
   "outputs": [
    {
     "name": "stdout",
     "output_type": "stream",
     "text": [
      "Тип признака: int32\n",
      "Значения признака:\n"
     ]
    },
    {
     "data": {
      "text/plain": [
       "count    85077.000000\n",
       "mean         1.833751\n",
       "std          1.097071\n",
       "min          0.000000\n",
       "25%          1.000000\n",
       "50%          2.000000\n",
       "75%          3.000000\n",
       "max          3.000000\n",
       "Name: #owners, dtype: float64"
      ]
     },
     "metadata": {},
     "output_type": "display_data"
    },
    {
     "name": "stdout",
     "output_type": "stream",
     "text": [
      "Различных значений c учётом NaN: 4\n",
      "              \t  без учёта NaN: 4 \n",
      "Пропусков: 0\n",
      "Значений, встретившихся в столбце более 10 раз: 4\n"
     ]
    },
    {
     "data": {
      "image/png": "[encoded data removed]",
      "text/plain": [
       "<Figure size 432x288 with 1 Axes>"
      ]
     },
     "metadata": {
      "needs_background": "light"
     },
     "output_type": "display_data"
    }
   ],
   "source": [
    "cars['#owners'] = cars['#owners'].apply(lambda x: (re.sub(\"\\D\", \"\", x))).astype(int)\n",
    "feature_info(cars['#owners'])"
   ]
  },
  {
   "cell_type": "markdown",
   "metadata": {},
   "source": [
    "### inUse"
   ]
  },
  {
   "cell_type": "code",
   "execution_count": 37,
   "metadata": {},
   "outputs": [
    {
     "name": "stdout",
     "output_type": "stream",
     "text": [
      "Тип признака: object\n",
      "Значения признака:\n"
     ]
    },
    {
     "data": {
      "text/html": [
       "<div>\n",
       "<style scoped>\n",
       "    .dataframe tbody tr th:only-of-type {\n",
       "        vertical-align: middle;\n",
       "    }\n",
       "\n",
       "    .dataframe tbody tr th {\n",
       "        vertical-align: top;\n",
       "    }\n",
       "\n",
       "    .dataframe thead th {\n",
       "        text-align: right;\n",
       "    }\n",
       "</style>\n",
       "<table border=\"1\" class=\"dataframe\">\n",
       "  <thead>\n",
       "    <tr style=\"text-align: right;\">\n",
       "      <th></th>\n",
       "      <th>inUse</th>\n",
       "    </tr>\n",
       "  </thead>\n",
       "  <tbody>\n",
       "    <tr>\n",
       "      <th>0</th>\n",
       "      <td>0.673</td>\n",
       "    </tr>\n",
       "    <tr>\n",
       "      <th>1 год и 6 месяцев</th>\n",
       "      <td>0.006</td>\n",
       "    </tr>\n",
       "    <tr>\n",
       "      <th>10 месяцев</th>\n",
       "      <td>0.006</td>\n",
       "    </tr>\n",
       "    <tr>\n",
       "      <th>1 год</th>\n",
       "      <td>0.006</td>\n",
       "    </tr>\n",
       "    <tr>\n",
       "      <th>1 год и 10 месяцев</th>\n",
       "      <td>0.005</td>\n",
       "    </tr>\n",
       "    <tr>\n",
       "      <th>...</th>\n",
       "      <td>...</td>\n",
       "    </tr>\n",
       "    <tr>\n",
       "      <th>28 лет и 4 месяца</th>\n",
       "      <td>0.000</td>\n",
       "    </tr>\n",
       "    <tr>\n",
       "      <th>31 год и 11 месяцев</th>\n",
       "      <td>0.000</td>\n",
       "    </tr>\n",
       "    <tr>\n",
       "      <th>31 год и 6 месяцев</th>\n",
       "      <td>0.000</td>\n",
       "    </tr>\n",
       "    <tr>\n",
       "      <th>44 года и 5 месяцев</th>\n",
       "      <td>0.000</td>\n",
       "    </tr>\n",
       "    <tr>\n",
       "      <th>20 лет и 11 месяцев</th>\n",
       "      <td>0.000</td>\n",
       "    </tr>\n",
       "  </tbody>\n",
       "</table>\n",
       "<p>306 rows × 1 columns</p>\n",
       "</div>"
      ],
      "text/plain": [
       "                     inUse\n",
       "0                    0.673\n",
       "1 год и 6 месяцев    0.006\n",
       "10 месяцев           0.006\n",
       "1 год                0.006\n",
       "1 год и 10 месяцев   0.005\n",
       "...                    ...\n",
       "28 лет и 4 месяца    0.000\n",
       "31 год и 11 месяцев  0.000\n",
       "31 год и 6 месяцев   0.000\n",
       "44 года и 5 месяцев  0.000\n",
       "20 лет и 11 месяцев  0.000\n",
       "\n",
       "[306 rows x 1 columns]"
      ]
     },
     "metadata": {},
     "output_type": "display_data"
    },
    {
     "name": "stdout",
     "output_type": "stream",
     "text": [
      "Различных значений c учётом NaN: 306\n",
      "              \t  без учёта NaN: 306 \n",
      "Пропусков: 0\n",
      "Значений, встретившихся в столбце более 10 раз: 174\n"
     ]
    }
   ],
   "source": [
    "feature_info(cars.inUse)"
   ]
  },
  {
   "cell_type": "code",
   "execution_count": 38,
   "metadata": {},
   "outputs": [],
   "source": [
    "def reshape_years(inuse):\n",
    "    word = inuse.split(sep=' ')\n",
    "    years = 0\n",
    "    months = 0\n",
    "\n",
    "    if len(word) >= 2:\n",
    "        for i in range(0, len(word)):\n",
    "            if word[i].isdigit() and word[i + 1][:3] == 'мес':\n",
    "                months = int(word[i])\n",
    "            elif word[i].isdigit() and (word[i + 1][:3] == 'лет' or word[i + 1][:3] == 'год'):\n",
    "                years = int(word[i])\n",
    "    return (years * 12 + months)   \n",
    "    \n",
    "cars['inUse']=cars.inUse.apply(reshape_years)"
   ]
  },
  {
   "cell_type": "code",
   "execution_count": 39,
   "metadata": {},
   "outputs": [
    {
     "name": "stdout",
     "output_type": "stream",
     "text": [
      "Тип признака: int64\n",
      "Значения признака:\n"
     ]
    },
    {
     "data": {
      "text/plain": [
       "count    85077.000000\n",
       "mean        16.705667\n",
       "std         34.548411\n",
       "min          0.000000\n",
       "25%          0.000000\n",
       "50%          0.000000\n",
       "75%         18.000000\n",
       "max        610.000000\n",
       "Name: inUse, dtype: float64"
      ]
     },
     "metadata": {},
     "output_type": "display_data"
    },
    {
     "name": "stdout",
     "output_type": "stream",
     "text": [
      "Различных значений c учётом NaN: 306\n",
      "              \t  без учёта NaN: 306 \n",
      "Пропусков: 0\n",
      "Значений, встретившихся в столбце более 10 раз: 174\n"
     ]
    },
    {
     "data": {
      "image/png": "[encoded data removed]",
      "text/plain": [
       "<Figure size 432x288 with 1 Axes>"
      ]
     },
     "metadata": {
      "needs_background": "light"
     },
     "output_type": "display_data"
    }
   ],
   "source": [
    "feature_info(cars.inUse)"
   ]
  },
  {
   "cell_type": "markdown",
   "metadata": {},
   "source": [
    "### pts"
   ]
  },
  {
   "cell_type": "code",
   "execution_count": 40,
   "metadata": {},
   "outputs": [
    {
     "name": "stdout",
     "output_type": "stream",
     "text": [
      "Тип признака: object\n",
      "Значения признака:\n"
     ]
    },
    {
     "data": {
      "text/html": [
       "<div>\n",
       "<style scoped>\n",
       "    .dataframe tbody tr th:only-of-type {\n",
       "        vertical-align: middle;\n",
       "    }\n",
       "\n",
       "    .dataframe tbody tr th {\n",
       "        vertical-align: top;\n",
       "    }\n",
       "\n",
       "    .dataframe thead th {\n",
       "        text-align: right;\n",
       "    }\n",
       "</style>\n",
       "<table border=\"1\" class=\"dataframe\">\n",
       "  <thead>\n",
       "    <tr style=\"text-align: right;\">\n",
       "      <th></th>\n",
       "      <th>pts</th>\n",
       "    </tr>\n",
       "  </thead>\n",
       "  <tbody>\n",
       "    <tr>\n",
       "      <th>Оригинал</th>\n",
       "      <td>0.750</td>\n",
       "    </tr>\n",
       "    <tr>\n",
       "      <th>NaN</th>\n",
       "      <td>0.148</td>\n",
       "    </tr>\n",
       "    <tr>\n",
       "      <th>Дубликат</th>\n",
       "      <td>0.103</td>\n",
       "    </tr>\n",
       "  </tbody>\n",
       "</table>\n",
       "</div>"
      ],
      "text/plain": [
       "            pts\n",
       "Оригинал  0.750\n",
       "NaN       0.148\n",
       "Дубликат  0.103"
      ]
     },
     "metadata": {},
     "output_type": "display_data"
    },
    {
     "name": "stdout",
     "output_type": "stream",
     "text": [
      "Различных значений c учётом NaN: 3\n",
      "              \t  без учёта NaN: 2 \n",
      "Пропусков: 12564\n",
      "Значений, встретившихся в столбце более 10 раз: 2\n"
     ]
    }
   ],
   "source": [
    "feature_info(cars.pts)"
   ]
  },
  {
   "cell_type": "code",
   "execution_count": 41,
   "metadata": {},
   "outputs": [
    {
     "name": "stdout",
     "output_type": "stream",
     "text": [
      "Тип признака: object\n",
      "Значения признака:\n"
     ]
    },
    {
     "data": {
      "text/html": [
       "<div>\n",
       "<style scoped>\n",
       "    .dataframe tbody tr th:only-of-type {\n",
       "        vertical-align: middle;\n",
       "    }\n",
       "\n",
       "    .dataframe tbody tr th {\n",
       "        vertical-align: top;\n",
       "    }\n",
       "\n",
       "    .dataframe thead th {\n",
       "        text-align: right;\n",
       "    }\n",
       "</style>\n",
       "<table border=\"1\" class=\"dataframe\">\n",
       "  <thead>\n",
       "    <tr style=\"text-align: right;\">\n",
       "      <th></th>\n",
       "      <th>pts</th>\n",
       "    </tr>\n",
       "  </thead>\n",
       "  <tbody>\n",
       "    <tr>\n",
       "      <th>Оригинал</th>\n",
       "      <td>0.897</td>\n",
       "    </tr>\n",
       "    <tr>\n",
       "      <th>Дубликат</th>\n",
       "      <td>0.103</td>\n",
       "    </tr>\n",
       "  </tbody>\n",
       "</table>\n",
       "</div>"
      ],
      "text/plain": [
       "            pts\n",
       "Оригинал  0.897\n",
       "Дубликат  0.103"
      ]
     },
     "metadata": {},
     "output_type": "display_data"
    },
    {
     "name": "stdout",
     "output_type": "stream",
     "text": [
      "Различных значений c учётом NaN: 2\n",
      "              \t  без учёта NaN: 2 \n",
      "Пропусков: 0\n",
      "Значений, встретившихся в столбце более 10 раз: 2\n"
     ]
    }
   ],
   "source": [
    "cars.pts.fillna('Оригинал', inplace=True)\n",
    "feature_info(cars.pts)"
   ]
  },
  {
   "cell_type": "markdown",
   "metadata": {},
   "source": [
    "### condition"
   ]
  },
  {
   "cell_type": "code",
   "execution_count": 42,
   "metadata": {},
   "outputs": [
    {
     "name": "stdout",
     "output_type": "stream",
     "text": [
      "Тип признака: object\n",
      "Значения признака:\n"
     ]
    },
    {
     "data": {
      "text/html": [
       "<div>\n",
       "<style scoped>\n",
       "    .dataframe tbody tr th:only-of-type {\n",
       "        vertical-align: middle;\n",
       "    }\n",
       "\n",
       "    .dataframe tbody tr th {\n",
       "        vertical-align: top;\n",
       "    }\n",
       "\n",
       "    .dataframe thead th {\n",
       "        text-align: right;\n",
       "    }\n",
       "</style>\n",
       "<table border=\"1\" class=\"dataframe\">\n",
       "  <thead>\n",
       "    <tr style=\"text-align: right;\">\n",
       "      <th></th>\n",
       "      <th>condition</th>\n",
       "    </tr>\n",
       "  </thead>\n",
       "  <tbody>\n",
       "    <tr>\n",
       "      <th>Не требует ремонта</th>\n",
       "      <td>0.852</td>\n",
       "    </tr>\n",
       "    <tr>\n",
       "      <th>NaN</th>\n",
       "      <td>0.148</td>\n",
       "    </tr>\n",
       "  </tbody>\n",
       "</table>\n",
       "</div>"
      ],
      "text/plain": [
       "                    condition\n",
       "Не требует ремонта      0.852\n",
       "NaN                     0.148"
      ]
     },
     "metadata": {},
     "output_type": "display_data"
    },
    {
     "name": "stdout",
     "output_type": "stream",
     "text": [
      "Различных значений c учётом NaN: 2\n",
      "              \t  без учёта NaN: 1 \n",
      "Пропусков: 12564\n",
      "Значений, встретившихся в столбце более 10 раз: 1\n"
     ]
    }
   ],
   "source": [
    "feature_info(cars.condition)"
   ]
  },
  {
   "cell_type": "code",
   "execution_count": 43,
   "metadata": {},
   "outputs": [],
   "source": [
    "cars.condition.fillna('Другое',inplace=True)"
   ]
  },
  {
   "cell_type": "markdown",
   "metadata": {},
   "source": [
    "### tax"
   ]
  },
  {
   "cell_type": "code",
   "execution_count": 44,
   "metadata": {},
   "outputs": [
    {
     "name": "stdout",
     "output_type": "stream",
     "text": [
      "Тип признака: object\n",
      "Значения признака:\n"
     ]
    },
    {
     "data": {
      "text/html": [
       "<div>\n",
       "<style scoped>\n",
       "    .dataframe tbody tr th:only-of-type {\n",
       "        vertical-align: middle;\n",
       "    }\n",
       "\n",
       "    .dataframe tbody tr th {\n",
       "        vertical-align: top;\n",
       "    }\n",
       "\n",
       "    .dataframe thead th {\n",
       "        text-align: right;\n",
       "    }\n",
       "</style>\n",
       "<table border=\"1\" class=\"dataframe\">\n",
       "  <thead>\n",
       "    <tr style=\"text-align: right;\">\n",
       "      <th></th>\n",
       "      <th>tax</th>\n",
       "    </tr>\n",
       "  </thead>\n",
       "  <tbody>\n",
       "    <tr>\n",
       "      <th>5 250 ₽ / год</th>\n",
       "      <td>0.018</td>\n",
       "    </tr>\n",
       "    <tr>\n",
       "      <th>18 675 ₽ / год</th>\n",
       "      <td>0.014</td>\n",
       "    </tr>\n",
       "    <tr>\n",
       "      <th>4 500 ₽ / год</th>\n",
       "      <td>0.010</td>\n",
       "    </tr>\n",
       "    <tr>\n",
       "      <th>3 750 ₽ / год</th>\n",
       "      <td>0.009</td>\n",
       "    </tr>\n",
       "    <tr>\n",
       "      <th>0 ₽ / год</th>\n",
       "      <td>0.008</td>\n",
       "    </tr>\n",
       "    <tr>\n",
       "      <th>...</th>\n",
       "      <td>...</td>\n",
       "    </tr>\n",
       "    <tr>\n",
       "      <th>34 000 ₽ / год</th>\n",
       "      <td>0.000</td>\n",
       "    </tr>\n",
       "    <tr>\n",
       "      <th>77 100 ₽ / год</th>\n",
       "      <td>0.000</td>\n",
       "    </tr>\n",
       "    <tr>\n",
       "      <th>1 484 ₽ / год</th>\n",
       "      <td>0.000</td>\n",
       "    </tr>\n",
       "    <tr>\n",
       "      <th>45 875 ₽ / год</th>\n",
       "      <td>0.000</td>\n",
       "    </tr>\n",
       "    <tr>\n",
       "      <th>39 150 ₽ / год</th>\n",
       "      <td>0.000</td>\n",
       "    </tr>\n",
       "  </tbody>\n",
       "</table>\n",
       "<p>2761 rows × 1 columns</p>\n",
       "</div>"
      ],
      "text/plain": [
       "                  tax\n",
       "5 250 ₽ / год   0.018\n",
       "18 675 ₽ / год  0.014\n",
       "4 500 ₽ / год   0.010\n",
       "3 750 ₽ / год   0.009\n",
       "0 ₽ / год       0.008\n",
       "...               ...\n",
       "34 000 ₽ / год  0.000\n",
       "77 100 ₽ / год  0.000\n",
       "1 484 ₽ / год   0.000\n",
       "45 875 ₽ / год  0.000\n",
       "39 150 ₽ / год  0.000\n",
       "\n",
       "[2761 rows x 1 columns]"
      ]
     },
     "metadata": {},
     "output_type": "display_data"
    },
    {
     "name": "stdout",
     "output_type": "stream",
     "text": [
      "Различных значений c учётом NaN: 2761\n",
      "              \t  без учёта NaN: 2761 \n",
      "Пропусков: 0\n",
      "Значений, встретившихся в столбце более 10 раз: 1195\n"
     ]
    }
   ],
   "source": [
    "feature_info(cars.tax)"
   ]
  },
  {
   "cell_type": "code",
   "execution_count": 45,
   "metadata": {},
   "outputs": [
    {
     "name": "stdout",
     "output_type": "stream",
     "text": [
      "Тип признака: int32\n",
      "Значения признака:\n"
     ]
    },
    {
     "data": {
      "text/plain": [
       "count     85077.000000\n",
       "mean       7259.786676\n",
       "std       15756.175715\n",
       "min           0.000000\n",
       "25%        1548.000000\n",
       "50%        3210.000000\n",
       "75%        5520.000000\n",
       "max      400294.000000\n",
       "Name: tax, dtype: float64"
      ]
     },
     "metadata": {},
     "output_type": "display_data"
    },
    {
     "name": "stdout",
     "output_type": "stream",
     "text": [
      "Различных значений c учётом NaN: 2760\n",
      "              \t  без учёта NaN: 2760 \n",
      "Пропусков: 0\n",
      "Значений, встретившихся в столбце более 10 раз: 1194\n"
     ]
    },
    {
     "data": {
      "image/png": "[encoded data removed]",
      "text/plain": [
       "<Figure size 432x288 with 1 Axes>"
      ]
     },
     "metadata": {
      "needs_background": "light"
     },
     "output_type": "display_data"
    }
   ],
   "source": [
    "cars.tax = cars.tax.apply(lambda x: (re.sub(\"\\D\", \"\", x))).astype(int)\n",
    "feature_info(cars.tax)"
   ]
  },
  {
   "cell_type": "markdown",
   "metadata": {},
   "source": [
    "### castoms"
   ]
  },
  {
   "cell_type": "code",
   "execution_count": 46,
   "metadata": {},
   "outputs": [
    {
     "name": "stdout",
     "output_type": "stream",
     "text": [
      "Тип признака: object\n",
      "Значения признака:\n"
     ]
    },
    {
     "data": {
      "text/html": [
       "<div>\n",
       "<style scoped>\n",
       "    .dataframe tbody tr th:only-of-type {\n",
       "        vertical-align: middle;\n",
       "    }\n",
       "\n",
       "    .dataframe tbody tr th {\n",
       "        vertical-align: top;\n",
       "    }\n",
       "\n",
       "    .dataframe thead th {\n",
       "        text-align: right;\n",
       "    }\n",
       "</style>\n",
       "<table border=\"1\" class=\"dataframe\">\n",
       "  <thead>\n",
       "    <tr style=\"text-align: right;\">\n",
       "      <th></th>\n",
       "      <th>castoms</th>\n",
       "    </tr>\n",
       "  </thead>\n",
       "  <tbody>\n",
       "    <tr>\n",
       "      <th>Растаможен</th>\n",
       "      <td>0.852</td>\n",
       "    </tr>\n",
       "    <tr>\n",
       "      <th>NaN</th>\n",
       "      <td>0.148</td>\n",
       "    </tr>\n",
       "  </tbody>\n",
       "</table>\n",
       "</div>"
      ],
      "text/plain": [
       "            castoms\n",
       "Растаможен    0.852\n",
       "NaN           0.148"
      ]
     },
     "metadata": {},
     "output_type": "display_data"
    },
    {
     "name": "stdout",
     "output_type": "stream",
     "text": [
      "Различных значений c учётом NaN: 2\n",
      "              \t  без учёта NaN: 1 \n",
      "Пропусков: 12564\n",
      "Значений, встретившихся в столбце более 10 раз: 1\n"
     ]
    }
   ],
   "source": [
    "feature_info(cars.castoms)"
   ]
  },
  {
   "cell_type": "code",
   "execution_count": 47,
   "metadata": {},
   "outputs": [],
   "source": [
    "cars.castoms.fillna('Другое',inplace=True)"
   ]
  },
  {
   "cell_type": "markdown",
   "metadata": {},
   "source": [
    "### exchange"
   ]
  },
  {
   "cell_type": "code",
   "execution_count": 48,
   "metadata": {},
   "outputs": [
    {
     "name": "stdout",
     "output_type": "stream",
     "text": [
      "Тип признака: object\n",
      "Значения признака:\n"
     ]
    },
    {
     "data": {
      "text/html": [
       "<div>\n",
       "<style scoped>\n",
       "    .dataframe tbody tr th:only-of-type {\n",
       "        vertical-align: middle;\n",
       "    }\n",
       "\n",
       "    .dataframe tbody tr th {\n",
       "        vertical-align: top;\n",
       "    }\n",
       "\n",
       "    .dataframe thead th {\n",
       "        text-align: right;\n",
       "    }\n",
       "</style>\n",
       "<table border=\"1\" class=\"dataframe\">\n",
       "  <thead>\n",
       "    <tr style=\"text-align: right;\">\n",
       "      <th></th>\n",
       "      <th>exchange</th>\n",
       "    </tr>\n",
       "  </thead>\n",
       "  <tbody>\n",
       "    <tr>\n",
       "      <th>NaN</th>\n",
       "      <td>0.685</td>\n",
       "    </tr>\n",
       "    <tr>\n",
       "      <th>Рассмотрю варианты</th>\n",
       "      <td>0.315</td>\n",
       "    </tr>\n",
       "  </tbody>\n",
       "</table>\n",
       "</div>"
      ],
      "text/plain": [
       "                    exchange\n",
       "NaN                    0.685\n",
       "Рассмотрю варианты     0.315"
      ]
     },
     "metadata": {},
     "output_type": "display_data"
    },
    {
     "name": "stdout",
     "output_type": "stream",
     "text": [
      "Различных значений c учётом NaN: 2\n",
      "              \t  без учёта NaN: 1 \n",
      "Пропусков: 58238\n",
      "Значений, встретившихся в столбце более 10 раз: 1\n"
     ]
    }
   ],
   "source": [
    "feature_info(cars.exchange)"
   ]
  },
  {
   "cell_type": "code",
   "execution_count": 49,
   "metadata": {},
   "outputs": [],
   "source": [
    "cars.exchange.fillna('Нет',inplace=True)"
   ]
  },
  {
   "cell_type": "markdown",
   "metadata": {},
   "source": [
    "### price"
   ]
  },
  {
   "cell_type": "code",
   "execution_count": 50,
   "metadata": {},
   "outputs": [
    {
     "name": "stdout",
     "output_type": "stream",
     "text": [
      "Тип признака: int64\n",
      "Значения признака:\n"
     ]
    },
    {
     "data": {
      "text/plain": [
       "count    8.507700e+04\n",
       "mean     9.216478e+05\n",
       "std      1.319827e+06\n",
       "min      1.000000e+04\n",
       "25%      3.000000e+05\n",
       "50%      5.500000e+05\n",
       "75%      1.000000e+06\n",
       "max      8.500000e+07\n",
       "Name: price, dtype: float64"
      ]
     },
     "metadata": {},
     "output_type": "display_data"
    },
    {
     "name": "stdout",
     "output_type": "stream",
     "text": [
      "Различных значений c учётом NaN: 8358\n",
      "              \t  без учёта NaN: 8358 \n",
      "Пропусков: 0\n",
      "Значений, встретившихся в столбце более 10 раз: 959\n"
     ]
    },
    {
     "data": {
      "image/png": "[encoded data removed]",
      "text/plain": [
       "<Figure size 432x288 with 1 Axes>"
      ]
     },
     "metadata": {
      "needs_background": "light"
     },
     "output_type": "display_data"
    }
   ],
   "source": [
    "feature_info(cars.price)"
   ]
  },
  {
   "cell_type": "code",
   "execution_count": 51,
   "metadata": {},
   "outputs": [],
   "source": [
    "cars.drop(['priceCurrency','href', 'index'], axis=1, inplace=True)"
   ]
  },
  {
   "cell_type": "code",
   "execution_count": 52,
   "metadata": {},
   "outputs": [
    {
     "data": {
      "text/html": [
       "<div>\n",
       "<style scoped>\n",
       "    .dataframe tbody tr th:only-of-type {\n",
       "        vertical-align: middle;\n",
       "    }\n",
       "\n",
       "    .dataframe tbody tr th {\n",
       "        vertical-align: top;\n",
       "    }\n",
       "\n",
       "    .dataframe thead th {\n",
       "        text-align: right;\n",
       "    }\n",
       "</style>\n",
       "<table border=\"1\" class=\"dataframe\">\n",
       "  <thead>\n",
       "    <tr style=\"text-align: right;\">\n",
       "      <th></th>\n",
       "      <th>brand</th>\n",
       "      <th>name</th>\n",
       "      <th>modelDate</th>\n",
       "      <th>color</th>\n",
       "      <th>productionDate</th>\n",
       "      <th>bodyType</th>\n",
       "      <th>fuelType</th>\n",
       "      <th>numberOfDoors</th>\n",
       "      <th>vehicleTransmission</th>\n",
       "      <th>engineDisplacement</th>\n",
       "      <th>whilleType</th>\n",
       "      <th>drive</th>\n",
       "      <th>enginePower</th>\n",
       "      <th>kmAge</th>\n",
       "      <th>place</th>\n",
       "      <th>VIN</th>\n",
       "      <th>seller</th>\n",
       "      <th>#owners</th>\n",
       "      <th>inUse</th>\n",
       "      <th>pts</th>\n",
       "      <th>condition</th>\n",
       "      <th>tax</th>\n",
       "      <th>castoms</th>\n",
       "      <th>exchange</th>\n",
       "      <th>price</th>\n",
       "    </tr>\n",
       "  </thead>\n",
       "  <tbody>\n",
       "    <tr>\n",
       "      <th>0</th>\n",
       "      <td>SKODA</td>\n",
       "      <td>Skoda Octavia III (A7)</td>\n",
       "      <td>2013</td>\n",
       "      <td>чёрный</td>\n",
       "      <td>2015</td>\n",
       "      <td>универсал</td>\n",
       "      <td>бензин</td>\n",
       "      <td>5</td>\n",
       "      <td>роботизированная</td>\n",
       "      <td>1.8</td>\n",
       "      <td>Левый</td>\n",
       "      <td>полный</td>\n",
       "      <td>180</td>\n",
       "      <td>116000</td>\n",
       "      <td>Пушкино</td>\n",
       "      <td>TMB</td>\n",
       "      <td>Private</td>\n",
       "      <td>1</td>\n",
       "      <td>0</td>\n",
       "      <td>Оригинал</td>\n",
       "      <td>Не требует ремонта</td>\n",
       "      <td>8820</td>\n",
       "      <td>Растаможен</td>\n",
       "      <td>Нет</td>\n",
       "      <td>1350000</td>\n",
       "    </tr>\n",
       "    <tr>\n",
       "      <th>1</th>\n",
       "      <td>FORD</td>\n",
       "      <td>Ford Focus II Рестайлинг</td>\n",
       "      <td>2007</td>\n",
       "      <td>чёрный</td>\n",
       "      <td>2008</td>\n",
       "      <td>седан</td>\n",
       "      <td>бензин</td>\n",
       "      <td>4</td>\n",
       "      <td>механическая</td>\n",
       "      <td>1.8</td>\n",
       "      <td>Левый</td>\n",
       "      <td>передний</td>\n",
       "      <td>125</td>\n",
       "      <td>152000</td>\n",
       "      <td>Москва</td>\n",
       "      <td>WF0</td>\n",
       "      <td>Salon</td>\n",
       "      <td>3</td>\n",
       "      <td>0</td>\n",
       "      <td>Оригинал</td>\n",
       "      <td>Не требует ремонта</td>\n",
       "      <td>3125</td>\n",
       "      <td>Растаможен</td>\n",
       "      <td>Рассмотрю варианты</td>\n",
       "      <td>319000</td>\n",
       "    </tr>\n",
       "    <tr>\n",
       "      <th>2</th>\n",
       "      <td>BMW</td>\n",
       "      <td>BMW X3  II (F25) 20d xDrive</td>\n",
       "      <td>2010</td>\n",
       "      <td>синий</td>\n",
       "      <td>2014</td>\n",
       "      <td>внедорожник</td>\n",
       "      <td>дизель</td>\n",
       "      <td>5</td>\n",
       "      <td>автоматическая</td>\n",
       "      <td>2.0</td>\n",
       "      <td>Левый</td>\n",
       "      <td>полный</td>\n",
       "      <td>184</td>\n",
       "      <td>134215</td>\n",
       "      <td>Москва</td>\n",
       "      <td>X4X</td>\n",
       "      <td>Private</td>\n",
       "      <td>1</td>\n",
       "      <td>0</td>\n",
       "      <td>Оригинал</td>\n",
       "      <td>Не требует ремонта</td>\n",
       "      <td>9200</td>\n",
       "      <td>Растаможен</td>\n",
       "      <td>Нет</td>\n",
       "      <td>1271000</td>\n",
       "    </tr>\n",
       "    <tr>\n",
       "      <th>3</th>\n",
       "      <td>VAZ</td>\n",
       "      <td>LADA (ВАЗ) Kalina I</td>\n",
       "      <td>2004</td>\n",
       "      <td>чёрный</td>\n",
       "      <td>2009</td>\n",
       "      <td>универсал</td>\n",
       "      <td>бензин</td>\n",
       "      <td>5</td>\n",
       "      <td>механическая</td>\n",
       "      <td>1.6</td>\n",
       "      <td>Левый</td>\n",
       "      <td>передний</td>\n",
       "      <td>81</td>\n",
       "      <td>17372</td>\n",
       "      <td>Москва</td>\n",
       "      <td>XTA</td>\n",
       "      <td>Private</td>\n",
       "      <td>2</td>\n",
       "      <td>0</td>\n",
       "      <td>Оригинал</td>\n",
       "      <td>Не требует ремонта</td>\n",
       "      <td>972</td>\n",
       "      <td>Растаможен</td>\n",
       "      <td>Рассмотрю варианты</td>\n",
       "      <td>300000</td>\n",
       "    </tr>\n",
       "    <tr>\n",
       "      <th>4</th>\n",
       "      <td>AUDI</td>\n",
       "      <td>Audi Q7  II (4M) Рестайлинг 45 TDI</td>\n",
       "      <td>2019</td>\n",
       "      <td>коричневый</td>\n",
       "      <td>2020</td>\n",
       "      <td>внедорожник</td>\n",
       "      <td>дизель</td>\n",
       "      <td>5</td>\n",
       "      <td>автоматическая</td>\n",
       "      <td>3.0</td>\n",
       "      <td>Левый</td>\n",
       "      <td>полный</td>\n",
       "      <td>249</td>\n",
       "      <td>0</td>\n",
       "      <td>Москва</td>\n",
       "      <td>XXX</td>\n",
       "      <td>Salon</td>\n",
       "      <td>0</td>\n",
       "      <td>0</td>\n",
       "      <td>Оригинал</td>\n",
       "      <td>Другое</td>\n",
       "      <td>18675</td>\n",
       "      <td>Другое</td>\n",
       "      <td>Нет</td>\n",
       "      <td>4805000</td>\n",
       "    </tr>\n",
       "    <tr>\n",
       "      <th>5</th>\n",
       "      <td>DATSUN</td>\n",
       "      <td>Datsun mi-DO</td>\n",
       "      <td>2015</td>\n",
       "      <td>оранжевый</td>\n",
       "      <td>2015</td>\n",
       "      <td>хэтчбек</td>\n",
       "      <td>бензин</td>\n",
       "      <td>5</td>\n",
       "      <td>автоматическая</td>\n",
       "      <td>1.6</td>\n",
       "      <td>Левый</td>\n",
       "      <td>передний</td>\n",
       "      <td>87</td>\n",
       "      <td>104000</td>\n",
       "      <td>Москва</td>\n",
       "      <td>Z8N</td>\n",
       "      <td>Salon</td>\n",
       "      <td>2</td>\n",
       "      <td>0</td>\n",
       "      <td>Оригинал</td>\n",
       "      <td>Не требует ремонта</td>\n",
       "      <td>1044</td>\n",
       "      <td>Растаможен</td>\n",
       "      <td>Нет</td>\n",
       "      <td>295000</td>\n",
       "    </tr>\n",
       "    <tr>\n",
       "      <th>6</th>\n",
       "      <td>VAZ</td>\n",
       "      <td>LADA (ВАЗ) 2114</td>\n",
       "      <td>2001</td>\n",
       "      <td>серебристый</td>\n",
       "      <td>2005</td>\n",
       "      <td>хэтчбек</td>\n",
       "      <td>бензин</td>\n",
       "      <td>5</td>\n",
       "      <td>механическая</td>\n",
       "      <td>1.5</td>\n",
       "      <td>Левый</td>\n",
       "      <td>передний</td>\n",
       "      <td>77</td>\n",
       "      <td>147500</td>\n",
       "      <td>Москва</td>\n",
       "      <td>XTA</td>\n",
       "      <td>Private</td>\n",
       "      <td>3</td>\n",
       "      <td>0</td>\n",
       "      <td>Дубликат</td>\n",
       "      <td>Не требует ремонта</td>\n",
       "      <td>924</td>\n",
       "      <td>Растаможен</td>\n",
       "      <td>Нет</td>\n",
       "      <td>59000</td>\n",
       "    </tr>\n",
       "    <tr>\n",
       "      <th>7</th>\n",
       "      <td>FORD</td>\n",
       "      <td>Ford C-MAX I</td>\n",
       "      <td>2003</td>\n",
       "      <td>зелёный</td>\n",
       "      <td>2005</td>\n",
       "      <td>компактвэн</td>\n",
       "      <td>бензин</td>\n",
       "      <td>5</td>\n",
       "      <td>автоматическая</td>\n",
       "      <td>2.0</td>\n",
       "      <td>Левый</td>\n",
       "      <td>передний</td>\n",
       "      <td>145</td>\n",
       "      <td>170000</td>\n",
       "      <td>Москва</td>\n",
       "      <td>WF0</td>\n",
       "      <td>Private</td>\n",
       "      <td>3</td>\n",
       "      <td>0</td>\n",
       "      <td>Оригинал</td>\n",
       "      <td>Не требует ремонта</td>\n",
       "      <td>5075</td>\n",
       "      <td>Растаможен</td>\n",
       "      <td>Нет</td>\n",
       "      <td>285000</td>\n",
       "    </tr>\n",
       "    <tr>\n",
       "      <th>8</th>\n",
       "      <td>TOYOTA</td>\n",
       "      <td>Toyota Matrix I (E130)</td>\n",
       "      <td>2002</td>\n",
       "      <td>белый</td>\n",
       "      <td>2003</td>\n",
       "      <td>хэтчбек</td>\n",
       "      <td>бензин</td>\n",
       "      <td>5</td>\n",
       "      <td>механическая</td>\n",
       "      <td>1.8</td>\n",
       "      <td>Левый</td>\n",
       "      <td>передний</td>\n",
       "      <td>183</td>\n",
       "      <td>181000</td>\n",
       "      <td>Москва</td>\n",
       "      <td>2T1</td>\n",
       "      <td>Private</td>\n",
       "      <td>3</td>\n",
       "      <td>0</td>\n",
       "      <td>Оригинал</td>\n",
       "      <td>Не требует ремонта</td>\n",
       "      <td>9150</td>\n",
       "      <td>Растаможен</td>\n",
       "      <td>Нет</td>\n",
       "      <td>275000</td>\n",
       "    </tr>\n",
       "    <tr>\n",
       "      <th>9</th>\n",
       "      <td>NISSAN</td>\n",
       "      <td>Nissan Murano I (Z50)</td>\n",
       "      <td>2002</td>\n",
       "      <td>пурпурный</td>\n",
       "      <td>2007</td>\n",
       "      <td>внедорожник</td>\n",
       "      <td>бензин</td>\n",
       "      <td>5</td>\n",
       "      <td>вариатор</td>\n",
       "      <td>3.5</td>\n",
       "      <td>Левый</td>\n",
       "      <td>полный</td>\n",
       "      <td>234</td>\n",
       "      <td>80000</td>\n",
       "      <td>Москва</td>\n",
       "      <td>JN1</td>\n",
       "      <td>Private</td>\n",
       "      <td>2</td>\n",
       "      <td>0</td>\n",
       "      <td>Оригинал</td>\n",
       "      <td>Не требует ремонта</td>\n",
       "      <td>17550</td>\n",
       "      <td>Растаможен</td>\n",
       "      <td>Нет</td>\n",
       "      <td>450000</td>\n",
       "    </tr>\n",
       "  </tbody>\n",
       "</table>\n",
       "</div>"
      ],
      "text/plain": [
       "    brand                                name  modelDate        color  \\\n",
       "0   SKODA              Skoda Octavia III (A7)       2013       чёрный   \n",
       "1    FORD            Ford Focus II Рестайлинг       2007       чёрный   \n",
       "2     BMW         BMW X3  II (F25) 20d xDrive       2010        синий   \n",
       "3     VAZ                 LADA (ВАЗ) Kalina I       2004       чёрный   \n",
       "4    AUDI  Audi Q7  II (4M) Рестайлинг 45 TDI       2019   коричневый   \n",
       "5  DATSUN                        Datsun mi-DO       2015    оранжевый   \n",
       "6     VAZ                     LADA (ВАЗ) 2114       2001  серебристый   \n",
       "7    FORD                        Ford C-MAX I       2003      зелёный   \n",
       "8  TOYOTA              Toyota Matrix I (E130)       2002        белый   \n",
       "9  NISSAN               Nissan Murano I (Z50)       2002    пурпурный   \n",
       "\n",
       "   productionDate      bodyType fuelType  numberOfDoors vehicleTransmission  \\\n",
       "0            2015    универсал    бензин              5    роботизированная   \n",
       "1            2008         седан   бензин              4        механическая   \n",
       "2            2014  внедорожник    дизель              5      автоматическая   \n",
       "3            2009    универсал    бензин              5        механическая   \n",
       "4            2020  внедорожник    дизель              5      автоматическая   \n",
       "5            2015      хэтчбек    бензин              5      автоматическая   \n",
       "6            2005      хэтчбек    бензин              5        механическая   \n",
       "7            2005    компактвэн   бензин              5      автоматическая   \n",
       "8            2003      хэтчбек    бензин              5        механическая   \n",
       "9            2007  внедорожник    бензин              5            вариатор   \n",
       "\n",
       "   engineDisplacement whilleType     drive  enginePower   kmAge    place  VIN  \\\n",
       "0                 1.8      Левый    полный          180  116000  Пушкино  TMB   \n",
       "1                 1.8      Левый  передний          125  152000   Москва  WF0   \n",
       "2                 2.0      Левый    полный          184  134215   Москва  X4X   \n",
       "3                 1.6      Левый  передний           81   17372   Москва  XTA   \n",
       "4                 3.0      Левый    полный          249       0   Москва  XXX   \n",
       "5                 1.6      Левый  передний           87  104000   Москва  Z8N   \n",
       "6                 1.5      Левый  передний           77  147500   Москва  XTA   \n",
       "7                 2.0      Левый  передний          145  170000   Москва  WF0   \n",
       "8                 1.8      Левый  передний          183  181000   Москва  2T1   \n",
       "9                 3.5      Левый    полный          234   80000   Москва  JN1   \n",
       "\n",
       "    seller  #owners  inUse       pts           condition    tax     castoms  \\\n",
       "0  Private        1      0  Оригинал  Не требует ремонта   8820  Растаможен   \n",
       "1    Salon        3      0  Оригинал  Не требует ремонта   3125  Растаможен   \n",
       "2  Private        1      0  Оригинал  Не требует ремонта   9200  Растаможен   \n",
       "3  Private        2      0  Оригинал  Не требует ремонта    972  Растаможен   \n",
       "4    Salon        0      0  Оригинал              Другое  18675      Другое   \n",
       "5    Salon        2      0  Оригинал  Не требует ремонта   1044  Растаможен   \n",
       "6  Private        3      0  Дубликат  Не требует ремонта    924  Растаможен   \n",
       "7  Private        3      0  Оригинал  Не требует ремонта   5075  Растаможен   \n",
       "8  Private        3      0  Оригинал  Не требует ремонта   9150  Растаможен   \n",
       "9  Private        2      0  Оригинал  Не требует ремонта  17550  Растаможен   \n",
       "\n",
       "             exchange    price  \n",
       "0                 Нет  1350000  \n",
       "1  Рассмотрю варианты   319000  \n",
       "2                 Нет  1271000  \n",
       "3  Рассмотрю варианты   300000  \n",
       "4                 Нет  4805000  \n",
       "5                 Нет   295000  \n",
       "6                 Нет    59000  \n",
       "7                 Нет   285000  \n",
       "8                 Нет   275000  \n",
       "9                 Нет   450000  "
      ]
     },
     "execution_count": 52,
     "metadata": {},
     "output_type": "execute_result"
    }
   ],
   "source": [
    "cars.head(10)"
   ]
  },
  {
   "cell_type": "code",
   "execution_count": 53,
   "metadata": {},
   "outputs": [
    {
     "data": {
      "text/plain": [
       "<matplotlib.axes._subplots.AxesSubplot at 0x2a81d1c64c8>"
      ]
     },
     "execution_count": 53,
     "metadata": {},
     "output_type": "execute_result"
    },
    {
     "data": {
      "image/png": "[encoded data removed]",
      "text/plain": [
       "<Figure size 720x720 with 2 Axes>"
      ]
     },
     "metadata": {
      "needs_background": "light"
     },
     "output_type": "display_data"
    }
   ],
   "source": [
    "fig, ax = plt.subplots(figsize=(10,10)) \n",
    "sns.heatmap(cars.corr(), square=True,\n",
    "            annot=True, fmt=\".2f\", linewidths=0.1, cmap=\"RdBu\")"
   ]
  },
  {
   "cell_type": "markdown",
   "metadata": {},
   "source": [
    "Выводы: очень сильная корреляция: modelDate:productionDate, :kmAge, :#owners\n",
    "                                  productionDate:modelDate, :kmAge, :#owners\n",
    "                                  engineDisplacement:enginePower, tax\n",
    "                                  kmAge:productionDate, :#owners"
   ]
  },
  {
   "cell_type": "code",
   "execution_count": 58,
   "metadata": {},
   "outputs": [],
   "source": [
    "cars.to_csv('d:\\\\skillfactory\\\\Real Data Science\\\\4.Auto_pickup\\\\200620_auto_bd_cleared.csv', sep=';', encoding='utf-8')"
   ]
  },
  {
   "cell_type": "code",
   "execution_count": 54,
   "metadata": {},
   "outputs": [],
   "source": [
    "# Функция для поиска статистически значимых различий\n",
    "def get_stat_dif(_column, _result_mark):\n",
    "    cols = cars.loc[:, _column].value_counts().index[:10]\n",
    "    combinations_all = list(combinations(cols, 2))\n",
    "    for comb in combinations_all:\n",
    "        if ttest_ind(cars.loc[cars.loc[:, _column] == comb[0], _result_mark], \n",
    "                        cars.loc[cars.loc[:, _column] == comb[1], _result_mark]).pvalue \\\n",
    "            <= 0.05/len(combinations_all): # Учли поправку Бонферони\n",
    "            print('Найдены статистически значимые различия для колонки', _column)\n",
    "            break"
   ]
  },
  {
   "cell_type": "code",
   "execution_count": 55,
   "metadata": {},
   "outputs": [],
   "source": [
    "# Функция для визуализации зависимостей категориальных признаков\n",
    "def get_boxplot(column):\n",
    "    fig, ax = plt.subplots(figsize = (14, 4))\n",
    "    sns.boxplot(x=column, y='price', \n",
    "                data=cars,\n",
    "               ax=ax)\n",
    "    plt.xticks(rotation=45)\n",
    "    ax.set_title('Boxplot for ' + column)\n",
    "    plt.show()"
   ]
  },
  {
   "cell_type": "code",
   "execution_count": 56,
   "metadata": {},
   "outputs": [
    {
     "data": {
      "image/png": "[encoded data removed]",
      "text/plain": [
       "<Figure size 1008x288 with 1 Axes>"
      ]
     },
     "metadata": {
      "needs_background": "light"
     },
     "output_type": "display_data"
    },
    {
     "data": {
      "image/png": "[encoded data removed]",
      "text/plain": [
       "<Figure size 1008x288 with 1 Axes>"
      ]
     },
     "metadata": {
      "needs_background": "light"
     },
     "output_type": "display_data"
    },
    {
     "data": {
      "image/png": "[encoded data removed]",
      "text/plain": [
       "<Figure size 1008x288 with 1 Axes>"
      ]
     },
     "metadata": {
      "needs_background": "light"
     },
     "output_type": "display_data"
    },
    {
     "data": {
      "image/png": "[encoded data removed]",
      "text/plain": [
       "<Figure size 1008x288 with 1 Axes>"
      ]
     },
     "metadata": {
      "needs_background": "light"
     },
     "output_type": "display_data"
    },
    {
     "data": {
      "image/png": "[encoded data removed]",
      "text/plain": [
       "<Figure size 1008x288 with 1 Axes>"
      ]
     },
     "metadata": {
      "needs_background": "light"
     },
     "output_type": "display_data"
    },
    {
     "data": {
      "image/png": "[encoded data removed]",
      "text/plain": [
       "<Figure size 1008x288 with 1 Axes>"
      ]
     },
     "metadata": {
      "needs_background": "light"
     },
     "output_type": "display_data"
    },
    {
     "data": {
      "image/png": "[encoded data removed]",
      "text/plain": [
       "<Figure size 1008x288 with 1 Axes>"
      ]
     },
     "metadata": {
      "needs_background": "light"
     },
     "output_type": "display_data"
    },
    {
     "data": {
      "image/png": "[encoded data removed]",
      "text/plain": [
       "<Figure size 1008x288 with 1 Axes>"
      ]
     },
     "metadata": {
      "needs_background": "light"
     },
     "output_type": "display_data"
    },
    {
     "data": {
      "image/png": "[encoded data removed]",
      "text/plain": [
       "<Figure size 1008x288 with 1 Axes>"
      ]
     },
     "metadata": {
      "needs_background": "light"
     },
     "output_type": "display_data"
    },
    {
     "data": {
      "image/png": "[encoded data removed]",
      "text/plain": [
       "<Figure size 1008x288 with 1 Axes>"
      ]
     },
     "metadata": {
      "needs_background": "light"
     },
     "output_type": "display_data"
    },
    {
     "data": {
      "image/png": "[encoded data removed]",
      "text/plain": [
       "<Figure size 1008x288 with 1 Axes>"
      ]
     },
     "metadata": {
      "needs_background": "light"
     },
     "output_type": "display_data"
    },
    {
     "data": {
      "image/png": "[encoded data removed]",
      "text/plain": [
       "<Figure size 1008x288 with 1 Axes>"
      ]
     },
     "metadata": {
      "needs_background": "light"
     },
     "output_type": "display_data"
    },
    {
     "data": {
      "image/png": "[encoded data removed]",
      "text/plain": [
       "<Figure size 1008x288 with 1 Axes>"
      ]
     },
     "metadata": {
      "needs_background": "light"
     },
     "output_type": "display_data"
    },
    {
     "data": {
      "image/png": "[encoded data removed]",
      "text/plain": [
       "<Figure size 1008x288 with 1 Axes>"
      ]
     },
     "metadata": {
      "needs_background": "light"
     },
     "output_type": "display_data"
    }
   ],
   "source": [
    "for col in ['brand', 'name', 'color', 'bodyType', 'fuelType', 'vehicleTransmission', 'whilleType', 'place', 'VIN',\n",
    "            'seller', 'pts', 'condition', 'castoms', 'exchange']:\n",
    "    get_boxplot(col)"
   ]
  },
  {
   "cell_type": "code",
   "execution_count": 57,
   "metadata": {},
   "outputs": [
    {
     "name": "stdout",
     "output_type": "stream",
     "text": [
      "Найдены статистически значимые различия для колонки brand\n",
      "Найдены статистически значимые различия для колонки name\n",
      "Найдены статистически значимые различия для колонки color\n",
      "Найдены статистически значимые различия для колонки bodyType\n",
      "Найдены статистически значимые различия для колонки fuelType\n",
      "Найдены статистически значимые различия для колонки vehicleTransmission\n",
      "Найдены статистически значимые различия для колонки whilleType\n",
      "Найдены статистически значимые различия для колонки place\n",
      "Найдены статистически значимые различия для колонки VIN\n",
      "Найдены статистически значимые различия для колонки seller\n",
      "Найдены статистически значимые различия для колонки pts\n",
      "Найдены статистически значимые различия для колонки condition\n",
      "Найдены статистически значимые различия для колонки castoms\n",
      "Найдены статистически значимые различия для колонки exchange\n"
     ]
    }
   ],
   "source": [
    "for col in ['brand', 'name', 'color', 'bodyType', 'fuelType', 'vehicleTransmission', 'whilleType', 'place', 'VIN',\n",
    "            'seller', 'pts', 'condition', 'castoms', 'exchange']:\n",
    "    get_stat_dif(col, 'price')"
   ]
  },
  {
   "cell_type": "code",
   "execution_count": null,
   "metadata": {},
   "outputs": [],
   "source": []
  }
 ],
 "metadata": {
  "kernelspec": {
   "display_name": "Python 3",
   "language": "python",
   "name": "python3"
  },
  "language_info": {
   "codemirror_mode": {
    "name": "ipython",
    "version": 3
   },
   "file_extension": ".py",
   "mimetype": "text/x-python",
   "name": "python",
   "nbconvert_exporter": "python",
   "pygments_lexer": "ipython3",
   "version": "3.7.6"
  }
 },
 "nbformat": 4,
 "nbformat_minor": 4
}
